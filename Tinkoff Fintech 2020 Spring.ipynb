{
 "cells": [
  {
   "cell_type": "markdown",
   "metadata": {},
   "source": [
    "# Task 1"
   ]
  },
  {
   "cell_type": "code",
   "execution_count": 52,
   "metadata": {},
   "outputs": [],
   "source": [
    "end_days = [..., 31, 28, 31, 30, 31, 30, 31, 31, 30, 31, 30, 31,]\n",
    "\n",
    "\n",
    "def task1(month):\n",
    "    if month < 1 or month > 12:\n",
    "        return \"oh my god danila are you crazy\"\n",
    "    else:\n",
    "        return end_days[month]\n",
    "\n",
    "\n",
    "# month = int(input())\n",
    "# print(task1(month))"
   ]
  },
  {
   "cell_type": "code",
   "execution_count": 53,
   "metadata": {},
   "outputs": [],
   "source": [
    "assert task1(-2) == \"oh my god danila are you crazy\"\n",
    "assert task1(5) == 31\n",
    "\n",
    "assert task1(-1000) == \"oh my god danila are you crazy\"\n",
    "assert task1(0) == \"oh my god danila are you crazy\"\n",
    "assert task1(1) == 31\n",
    "assert task1(2) == 28\n",
    "assert task1(3) == 31\n",
    "assert task1(4) == 30\n",
    "assert task1(5) == 31\n",
    "assert task1(6) == 30\n",
    "assert task1(7) == 31\n",
    "assert task1(8) == 31\n",
    "assert task1(9) == 30\n",
    "assert task1(10) == 31\n",
    "assert task1(11) == 30\n",
    "assert task1(12) == 31\n",
    "assert task1(13) == \"oh my god danila are you crazy\"\n",
    "assert task1(1000) == \"oh my god danila are you crazy\""
   ]
  },
  {
   "cell_type": "markdown",
   "metadata": {},
   "source": [
    "# Task 2"
   ]
  },
  {
   "cell_type": "code",
   "execution_count": 54,
   "metadata": {},
   "outputs": [],
   "source": [
    "numbers = {1, 5, 6, 25, 76, 376, 625, 9376, 90625, 109376, 890625}\n",
    "\n",
    "\n",
    "def task2(a, b):\n",
    "    answer = [i for i in range(a, b+1) if i in numbers]\n",
    "    if not answer:\n",
    "        answer = [-1]\n",
    "    return answer\n",
    "\n",
    "\n",
    "# a, b = map(int, input().split())\n",
    "# print(' '.join(map(str, task2(a, b))))"
   ]
  },
  {
   "cell_type": "code",
   "execution_count": 55,
   "metadata": {},
   "outputs": [],
   "source": [
    "assert task2(25, 85) == [25, 76]\n",
    "\n",
    "assert task2(1, 1) == [1]\n",
    "assert task2(1_000_000, 1_000_000) == [-1]\n",
    "assert task2(1, 1_000_000) == [1, 5, 6, 25, 76, 376, 625, 9376, 90625, 109376, 890625]"
   ]
  },
  {
   "cell_type": "markdown",
   "metadata": {},
   "source": [
    "# Task 3"
   ]
  },
  {
   "cell_type": "code",
   "execution_count": 159,
   "metadata": {},
   "outputs": [],
   "source": [
    "def task3(s):\n",
    "    if len(s) < 8:\n",
    "        return False\n",
    "\n",
    "    digital_flag = False\n",
    "    latin_upper_flag = False\n",
    "    latin_lower_flag = False\n",
    "\n",
    "    for letter in s:\n",
    "        if letter.isdigit():\n",
    "            digital_flag = True\n",
    "        elif 'a' <= letter <= 'z':\n",
    "            latin_upper_flag = True\n",
    "        elif 'A' <= letter <= 'Z':\n",
    "            latin_lower_flag = True\n",
    "        else:\n",
    "            return False\n",
    "\n",
    "    return digital_flag and latin_upper_flag and latin_lower_flag\n",
    "\n",
    "\n",
    "# string = input()\n",
    "# print('YES' if task3(string) else 'NO')"
   ]
  },
  {
   "cell_type": "code",
   "execution_count": 115,
   "metadata": {},
   "outputs": [],
   "source": [
    "assert task3('HelloItsMe8') == True\n",
    "\n",
    "assert task3('Hello') == False\n",
    "assert task3('HelloI8') == False\n",
    "assert task3('HelloIt8') == True\n",
    "assert task3('hhhhhhhhhhH') == False\n",
    "assert task3('hhhhhhhhhh8') == False\n",
    "assert task3('HHHHHHHHHH8') == False\n",
    "assert task3('56567656567') == False\n",
    "assert task3('HHHhhhHHHH8.') == False\n",
    "assert task3('HHHhhhHHHH8)') == False\n",
    "assert task3('HHHhhhHHHH8,') == False\n",
    "assert task3('HHHhhhHHHH8П') == False\n",
    "assert task3('HHHhhhHHHH8!') == False\n",
    "assert task3('s'*1000) == False\n",
    "assert task3('S'*1000) == False\n",
    "assert task3('1'*1000) == False\n",
    "assert task3('1'*100+'s'*100+'Y'*800) == True"
   ]
  },
  {
   "cell_type": "markdown",
   "metadata": {},
   "source": [
    "# Task 4"
   ]
  },
  {
   "cell_type": "code",
   "execution_count": 432,
   "metadata": {},
   "outputs": [
    {
     "name": "stdout",
     "output_type": "stream",
     "text": [
      "3 10\n",
      "10 45 50\n",
      "0\n"
     ]
    }
   ],
   "source": [
    "def merge(A, p, q, r):\n",
    "    inversion_count = 0\n",
    "\n",
    "    n1 = q - p\n",
    "    n2 = r - q\n",
    "    L = [A[p+i] for i in range(n1)] + [None]\n",
    "    R = [A[q+i] for i in range(n2)] + [None]\n",
    "    i = j = 0\n",
    "\n",
    "    for k in range(p, r):\n",
    "        if R[j] is None:\n",
    "            A[k] = L[i]\n",
    "            i += 1\n",
    "        elif L[i] is None:\n",
    "            A[k] = R[j]\n",
    "            j += 1\n",
    "        elif L[i] <= R[j]:\n",
    "            A[k] = L[i]\n",
    "            i += 1\n",
    "        else:\n",
    "            A[k] = R[j]\n",
    "            j += 1\n",
    "            inversion_count += n1-i\n",
    "\n",
    "    return inversion_count\n",
    "\n",
    "\n",
    "def merge_sort(array, p=0, r=None):\n",
    "    inversion_count = 0\n",
    "    r = len(array) if r is None else r\n",
    "    if p < r-1:\n",
    "        q = (p+r)//2\n",
    "        inversion_count += merge_sort(array, p, q)\n",
    "        inversion_count += merge_sort(array, q, r)\n",
    "        inversion_count += merge(array, p, q, r)\n",
    "\n",
    "    return inversion_count\n",
    "\n",
    "\n",
    "def task4(s, times):\n",
    "    arr = [i + s*t for i, t in enumerate(times)]\n",
    "    inversionCount = merge_sort(arr)\n",
    "    return inversionCount\n",
    "\n",
    "\n",
    "# N, S = map(int, input().split())\n",
    "# times = list(map(int, input().split()))\n",
    "# print(task4(S, times))"
   ]
  },
  {
   "cell_type": "code",
   "execution_count": 415,
   "metadata": {},
   "outputs": [],
   "source": [
    "def brute_force(s, times):\n",
    "    arr = [i + s*t for i, t in enumerate(times)]\n",
    "    inversionCount = 0\n",
    "\n",
    "    for j in range(len(arr)):\n",
    "        for i in range(j):\n",
    "            if arr[j] < arr[i]:\n",
    "                inversionCount += 1\n",
    "\n",
    "    return inversionCount"
   ]
  },
  {
   "cell_type": "code",
   "execution_count": 416,
   "metadata": {},
   "outputs": [],
   "source": [
    "assert task4(10, [10, 45, 50]) == 0\n",
    "assert task4(10, [10]) == 0\n",
    "assert task4(1, [10, 11, 12]) == 0\n",
    "assert task4(1, [20, 15, 10]) == 3\n",
    "assert task4(1, [15, 20, 10]) == 2\n",
    "assert task4(1, [12, 11, 10]) == 0\n",
    "assert task4(2, [12, 11, 10]) == 3\n",
    "assert task4(10, [10, 10, 10]) == 0\n",
    "\n",
    "assert task4(10, [10, 10, 10]) == 0"
   ]
  },
  {
   "cell_type": "code",
   "execution_count": 417,
   "metadata": {},
   "outputs": [],
   "source": [
    "assert brute_force(10, [10, 45, 50]) == 0\n",
    "assert brute_force(10, [10]) == 0\n",
    "assert brute_force(1, [10, 11, 12]) == 0\n",
    "assert brute_force(1, [20, 15, 10]) == 3\n",
    "assert brute_force(1, [15, 20, 10]) == 2\n",
    "assert brute_force(1, [12, 11, 10]) == 0\n",
    "assert brute_force(2, [12, 11, 10]) == 3\n",
    "assert brute_force(10, [10, 10, 10]) == 0\n",
    "\n",
    "assert brute_force(10, [10, 10, 10]) == 0"
   ]
  },
  {
   "cell_type": "code",
   "execution_count": 421,
   "metadata": {},
   "outputs": [],
   "source": [
    "arr = [841827952, 953520601, 797121064, 656265655, 892455206, 368297274,\n",
    "       846976864, 516219155,   4350385, 968307534, 626272091, 422890762,\n",
    "       167487935, 581141982, 132336990, 710206611, 729526010, 631966925,\n",
    "       224768708, 546319041,  47888607, 610918963, 400570116, 847273132,\n",
    "       653501164,  72432479, 119029837, 962092076, 426105358, 720688423]\n",
    "\n",
    "assert brute_force(13, arr) == task4(13, arr)"
   ]
  },
  {
   "cell_type": "code",
   "execution_count": 422,
   "metadata": {},
   "outputs": [],
   "source": [
    "arr = [100]*10**5"
   ]
  },
  {
   "cell_type": "code",
   "execution_count": 423,
   "metadata": {},
   "outputs": [
    {
     "name": "stdout",
     "output_type": "stream",
     "text": [
      "555 ms ± 12.7 ms per loop (mean ± std. dev. of 7 runs, 1 loop each)\n"
     ]
    }
   ],
   "source": [
    "%timeit task4(10**9, arr)"
   ]
  },
  {
   "cell_type": "code",
   "execution_count": 431,
   "metadata": {},
   "outputs": [],
   "source": [
    "import numpy as np\n",
    "\n",
    "for s in range(1, 10):\n",
    "    for i in range(1, 10):\n",
    "        for _ in range(1000):\n",
    "            arr = np.random.randint(1, 20, size=i)\n",
    "            assert brute_force(s, arr) == task4(s, arr)"
   ]
  },
  {
   "cell_type": "markdown",
   "metadata": {},
   "source": [
    "# Task 5"
   ]
  },
  {
   "cell_type": "code",
   "execution_count": 157,
   "metadata": {},
   "outputs": [],
   "source": [
    "def task5(x, y):\n",
    "    matrix = [[0]*8 for i in range(8)]\n",
    "    col = x - 1\n",
    "    row = 7 - (y - 1)\n",
    "    matrix[row][col] = 1\n",
    "\n",
    "    for i in range(row-1, -1, -1):\n",
    "        for j in range(8):\n",
    "            matrix[i][j] += matrix[i+1][j-1] if j-1 > -1 else 0\n",
    "            matrix[i][j] += matrix[i+1][j+1] if j+1 < 8 else 0\n",
    "\n",
    "    return sum(matrix[0])\n",
    "\n",
    "# x, y = map(int, input().split())\n",
    "# print(task5(x, y))"
   ]
  },
  {
   "cell_type": "code",
   "execution_count": 155,
   "metadata": {},
   "outputs": [],
   "source": [
    "assert task5(3, 6) == 4\n",
    "\n",
    "assert task5(3, 8) == 1\n",
    "assert task5(1, 1) == 35\n",
    "assert task5(8, 1) == 35\n",
    "assert task5(2, 6) == 3\n",
    "assert task5(6, 5) == 7"
   ]
  },
  {
   "cell_type": "markdown",
   "metadata": {},
   "source": [
    "# Test JS"
   ]
  },
  {
   "cell_type": "markdown",
   "metadata": {},
   "source": [
    "### Task 1"
   ]
  },
  {
   "cell_type": "markdown",
   "metadata": {},
   "source": [
    "answer: undefined, string, number, object"
   ]
  },
  {
   "cell_type": "markdown",
   "metadata": {},
   "source": [
    "### Task 2"
   ]
  },
  {
   "cell_type": "code",
   "execution_count": 434,
   "metadata": {},
   "outputs": [
    {
     "data": {
      "application/javascript": [
       "let i = 0;\n",
       "element.text(i++);\n"
      ],
      "text/plain": [
       "<IPython.core.display.Javascript object>"
      ]
     },
     "metadata": {},
     "output_type": "display_data"
    }
   ],
   "source": [
    "%%js\n",
    "let i = 0;\n",
    "element.text(i++);"
   ]
  },
  {
   "cell_type": "markdown",
   "metadata": {},
   "source": [
    "answer: 0"
   ]
  },
  {
   "cell_type": "markdown",
   "metadata": {},
   "source": [
    "### Task 3"
   ]
  },
  {
   "cell_type": "code",
   "execution_count": 438,
   "metadata": {},
   "outputs": [
    {
     "data": {
      "application/javascript": [
       "function a() {return 0;}\n",
       "function b() {return '';}\n",
       "function c() {return [];}\n",
       "function d() {return true;}\n",
       "\n",
       "element.text(a()||b()||c()||d())\n"
      ],
      "text/plain": [
       "<IPython.core.display.Javascript object>"
      ]
     },
     "metadata": {},
     "output_type": "display_data"
    }
   ],
   "source": [
    "%%js\n",
    "function a() {return 0;}\n",
    "function b() {return '';}\n",
    "function c() {return [];}\n",
    "function d() {return true;}\n",
    "\n",
    "element.text(a()||b()||c()||d())"
   ]
  },
  {
   "cell_type": "markdown",
   "metadata": {},
   "source": [
    "answer: []"
   ]
  },
  {
   "cell_type": "markdown",
   "metadata": {},
   "source": [
    "### Task 4"
   ]
  },
  {
   "cell_type": "code",
   "execution_count": 3,
   "metadata": {},
   "outputs": [
    {
     "data": {
      "application/javascript": [
       "\n",
       "var a = 1;\n",
       "\n",
       "function b() {\n",
       "    a = 2;\n",
       "    var a = 3;\n",
       "}\n",
       "\n",
       "b();\n",
       "element.text(a)\n"
      ],
      "text/plain": [
       "<IPython.core.display.Javascript object>"
      ]
     },
     "metadata": {},
     "output_type": "display_data"
    }
   ],
   "source": [
    "%%js\n",
    "\n",
    "var a = 1;\n",
    "\n",
    "function b() {\n",
    "    a = 2;\n",
    "    var a = 3;\n",
    "}\n",
    "\n",
    "b();\n",
    "element.text(a)"
   ]
  },
  {
   "cell_type": "markdown",
   "metadata": {},
   "source": [
    "answer: 1"
   ]
  },
  {
   "cell_type": "markdown",
   "metadata": {},
   "source": [
    "### Task 5"
   ]
  },
  {
   "cell_type": "code",
   "execution_count": 4,
   "metadata": {},
   "outputs": [
    {
     "data": {
      "application/javascript": [
       "\n",
       "sayHi(name);\n",
       "\n",
       "var name = 'Bob';\n",
       "\n",
       "function sayHi(name) {\n",
       "    element.text('Hi', name);\n",
       "} //error sayHi not find\n"
      ],
      "text/plain": [
       "<IPython.core.display.Javascript object>"
      ]
     },
     "metadata": {},
     "output_type": "display_data"
    }
   ],
   "source": [
    "%%js\n",
    "\n",
    "sayHi(name);\n",
    "\n",
    "var name = 'Bob';\n",
    "\n",
    "function sayHi(name) {\n",
    "    element.text('Hi', name);\n",
    "}"
   ]
  },
  {
   "cell_type": "markdown",
   "metadata": {},
   "source": [
    "answer: Hi undefined"
   ]
  },
  {
   "cell_type": "markdown",
   "metadata": {},
   "source": [
    "### Task 6"
   ]
  },
  {
   "cell_type": "code",
   "execution_count": 439,
   "metadata": {},
   "outputs": [
    {
     "data": {
      "application/javascript": [
       "\n",
       "function doSomething() {\n",
       "    let a = 5;\n",
       "    \n",
       "    if (a>0) {\n",
       "        let a = 0;\n",
       "        element.text(a);\n",
       "    }\n",
       "\n",
       "    element.text(a);\n",
       "}\n",
       "\n",
       "doSomething()\n"
      ],
      "text/plain": [
       "<IPython.core.display.Javascript object>"
      ]
     },
     "metadata": {},
     "output_type": "display_data"
    }
   ],
   "source": [
    "%%js\n",
    "\n",
    "function doSomething() {\n",
    "    let a = 5;\n",
    "    \n",
    "    if (a>0) {\n",
    "        let a = 0;\n",
    "        element.text(a);\n",
    "    }\n",
    "\n",
    "    element.text(a);\n",
    "}\n",
    "\n",
    "doSomething()"
   ]
  },
  {
   "cell_type": "markdown",
   "metadata": {},
   "source": [
    "answer: 0 5"
   ]
  },
  {
   "cell_type": "markdown",
   "metadata": {},
   "source": [
    "### Task 7"
   ]
  },
  {
   "cell_type": "code",
   "execution_count": 440,
   "metadata": {},
   "outputs": [
    {
     "data": {
      "application/javascript": [
       "\n",
       "1/0\n",
       "2*\"test\"\n",
       "Math.sqrt(-5)\n"
      ],
      "text/plain": [
       "<IPython.core.display.Javascript object>"
      ]
     },
     "metadata": {},
     "output_type": "display_data"
    }
   ],
   "source": [
    "%%js\n",
    "\n",
    "1/0\n",
    "2*\"test\"\n",
    "Math.sqrt(-5)"
   ]
  },
  {
   "cell_type": "markdown",
   "metadata": {},
   "source": [
    "answer: никакая из вышеперечисленных"
   ]
  },
  {
   "cell_type": "markdown",
   "metadata": {},
   "source": [
    "### Task 8"
   ]
  },
  {
   "cell_type": "code",
   "execution_count": 441,
   "metadata": {},
   "outputs": [
    {
     "data": {
      "application/javascript": [
       "\n",
       "var a = [1, 2, 3];\n",
       "var b = [1, 2, 3];\n",
       "element.text(a == b)\n"
      ],
      "text/plain": [
       "<IPython.core.display.Javascript object>"
      ]
     },
     "metadata": {},
     "output_type": "display_data"
    }
   ],
   "source": [
    "%%js\n",
    "\n",
    "var a = [1, 2, 3];\n",
    "var b = [1, 2, 3];\n",
    "element.text(a == b)"
   ]
  },
  {
   "cell_type": "markdown",
   "metadata": {},
   "source": [
    "answer: Нет"
   ]
  },
  {
   "cell_type": "markdown",
   "metadata": {},
   "source": [
    "### Task 9"
   ]
  },
  {
   "cell_type": "markdown",
   "metadata": {},
   "source": [
    "answer: сравнивает без приведения типов"
   ]
  },
  {
   "cell_type": "markdown",
   "metadata": {},
   "source": [
    "### Task 10"
   ]
  },
  {
   "cell_type": "code",
   "execution_count": 7,
   "metadata": {},
   "outputs": [
    {
     "data": {
      "application/javascript": [
       "\n",
       "for (let i = 3; i > 0; i--) {\n",
       "    element.text(i)\n",
       "} // 3 2 1\n"
      ],
      "text/plain": [
       "<IPython.core.display.Javascript object>"
      ]
     },
     "metadata": {},
     "output_type": "display_data"
    }
   ],
   "source": [
    "%%js\n",
    "\n",
    "for (let i = 3; i > 0; i--) {\n",
    "    element.text(i)\n",
    "}"
   ]
  },
  {
   "cell_type": "markdown",
   "metadata": {},
   "source": [
    "answer: 3 2 1"
   ]
  },
  {
   "cell_type": "markdown",
   "metadata": {},
   "source": [
    "### Task 11"
   ]
  },
  {
   "cell_type": "code",
   "execution_count": 8,
   "metadata": {},
   "outputs": [
    {
     "data": {
      "application/javascript": [
       "\n",
       "var i=3; while(i>0) {element.text(i); i--}\n"
      ],
      "text/plain": [
       "<IPython.core.display.Javascript object>"
      ]
     },
     "metadata": {},
     "output_type": "display_data"
    }
   ],
   "source": [
    "%%js\n",
    "\n",
    "for (let i = 3; i > 0; i--) {\n",
    "    element.text(i)\n",
    "}\n",
    "\n",
    "var i=3; while(i>0) {element.text(i); i--}"
   ]
  },
  {
   "cell_type": "markdown",
   "metadata": {},
   "source": [
    "answer: var i=3; while(i>0) {console.log(i); i--}"
   ]
  },
  {
   "cell_type": "markdown",
   "metadata": {},
   "source": [
    "### Task 12 "
   ]
  },
  {
   "cell_type": "code",
   "execution_count": 9,
   "metadata": {},
   "outputs": [
    {
     "data": {
      "application/javascript": [
       "\n",
       "'use strict'\n",
       "\n",
       "function logThis() {\n",
       "    this.name = 'logger';\n",
       "    element.text(this);\n",
       "}\n",
       "\n",
       "new logThis(); // {name: 'logger'}\n"
      ],
      "text/plain": [
       "<IPython.core.display.Javascript object>"
      ]
     },
     "metadata": {},
     "output_type": "display_data"
    }
   ],
   "source": [
    "%%js\n",
    "\n",
    "'use strict'\n",
    "\n",
    "function logThis() {\n",
    "    this.name = 'logger';\n",
    "    element.text(this);\n",
    "}\n",
    "\n",
    "new logThis();"
   ]
  },
  {
   "cell_type": "markdown",
   "metadata": {},
   "source": [
    "answer: {name: 'logger'}"
   ]
  },
  {
   "cell_type": "markdown",
   "metadata": {},
   "source": [
    "### Task 13"
   ]
  },
  {
   "cell_type": "code",
   "execution_count": 10,
   "metadata": {},
   "outputs": [
    {
     "data": {
      "application/javascript": [
       "\n",
       "element.text('DO-do-do'.replace('o', 'a'))\n"
      ],
      "text/plain": [
       "<IPython.core.display.Javascript object>"
      ]
     },
     "metadata": {},
     "output_type": "display_data"
    }
   ],
   "source": [
    "%%js\n",
    "\n",
    "element.text('DO-do-do'.replace('o', 'a'))"
   ]
  },
  {
   "cell_type": "markdown",
   "metadata": {},
   "source": [
    "answer: DO-da-do"
   ]
  },
  {
   "cell_type": "markdown",
   "metadata": {},
   "source": [
    "### Task 14"
   ]
  },
  {
   "cell_type": "markdown",
   "metadata": {},
   "source": [
    "answer: substr"
   ]
  },
  {
   "cell_type": "markdown",
   "metadata": {},
   "source": [
    "### Task 15"
   ]
  },
  {
   "cell_type": "code",
   "execution_count": 442,
   "metadata": {},
   "outputs": [
    {
     "data": {
      "application/javascript": [
       "\n",
       "const a = [1, 2, 3];\n",
       "\n",
       "a[4] = 5;\n",
       "\n",
       "element.text(a.length)\n"
      ],
      "text/plain": [
       "<IPython.core.display.Javascript object>"
      ]
     },
     "metadata": {},
     "output_type": "display_data"
    }
   ],
   "source": [
    "%%js\n",
    "\n",
    "const a = [1, 2, 3];\n",
    "\n",
    "a[4] = 5;\n",
    "\n",
    "element.text(a.length)"
   ]
  },
  {
   "cell_type": "markdown",
   "metadata": {},
   "source": [
    "answer: 5"
   ]
  },
  {
   "cell_type": "markdown",
   "metadata": {},
   "source": [
    "### Task 16"
   ]
  },
  {
   "cell_type": "markdown",
   "metadata": {},
   "source": [
    "answer: indexOf"
   ]
  },
  {
   "cell_type": "markdown",
   "metadata": {},
   "source": [
    "### Task 17"
   ]
  },
  {
   "cell_type": "markdown",
   "metadata": {},
   "source": [
    "answer: push"
   ]
  },
  {
   "cell_type": "markdown",
   "metadata": {},
   "source": [
    "### Task 18"
   ]
  },
  {
   "cell_type": "code",
   "execution_count": 443,
   "metadata": {},
   "outputs": [
    {
     "data": {
      "application/javascript": [
       "\n",
       "const currencies = ['RUB', 'USD', 'EUR'];\n",
       "\n",
       "element.text(currencies.length);\n"
      ],
      "text/plain": [
       "<IPython.core.display.Javascript object>"
      ]
     },
     "metadata": {},
     "output_type": "display_data"
    }
   ],
   "source": [
    "%%js\n",
    "\n",
    "const currencies = ['RUB', 'USD', 'EUR'];\n",
    "\n",
    "element.text(currencies.length);"
   ]
  },
  {
   "cell_type": "markdown",
   "metadata": {},
   "source": [
    "answer: currencies.length"
   ]
  },
  {
   "cell_type": "markdown",
   "metadata": {},
   "source": [
    "### Task 19"
   ]
  },
  {
   "cell_type": "code",
   "execution_count": 444,
   "metadata": {},
   "outputs": [
    {
     "data": {
      "application/javascript": [
       "\n",
       "const currencies = ['RUB', 'USD', 'EUR'];\n",
       "\n",
       "element.text(currencies[1]);\n"
      ],
      "text/plain": [
       "<IPython.core.display.Javascript object>"
      ]
     },
     "metadata": {},
     "output_type": "display_data"
    }
   ],
   "source": [
    "%%js\n",
    "\n",
    "const currencies = ['RUB', 'USD', 'EUR'];\n",
    "\n",
    "element.text(currencies[1]);"
   ]
  },
  {
   "cell_type": "markdown",
   "metadata": {},
   "source": [
    "answer: USD"
   ]
  },
  {
   "cell_type": "markdown",
   "metadata": {},
   "source": [
    "### Task 20"
   ]
  },
  {
   "cell_type": "code",
   "execution_count": 445,
   "metadata": {},
   "outputs": [
    {
     "data": {
      "application/javascript": [
       "\n",
       "const currencies1 = ['RUB', 'USD', 'EUR'];\n",
       "const currencies2 = ['RUB', 'USD', 'EUR'];\n",
       "const currencies3 = ['RUB', 'USD', 'EUR'];\n",
       "const currencies4 = ['RUB', 'USD', 'EUR'];\n",
       "\n",
       "currencies1[3] = 'JPY';\n",
       "currencies4.push('JPY');\n"
      ],
      "text/plain": [
       "<IPython.core.display.Javascript object>"
      ]
     },
     "metadata": {},
     "output_type": "display_data"
    }
   ],
   "source": [
    "%%js\n",
    "\n",
    "const currencies1 = ['RUB', 'USD', 'EUR'];\n",
    "const currencies2 = ['RUB', 'USD', 'EUR'];\n",
    "const currencies3 = ['RUB', 'USD', 'EUR'];\n",
    "const currencies4 = ['RUB', 'USD', 'EUR'];\n",
    "\n",
    "currencies1[3] = 'JPY';\n",
    "currencies4.push('JPY');"
   ]
  },
  {
   "cell_type": "markdown",
   "metadata": {},
   "source": [
    "answer: currencies.push('JPY');"
   ]
  },
  {
   "cell_type": "markdown",
   "metadata": {},
   "source": [
    "### Task 21"
   ]
  },
  {
   "cell_type": "markdown",
   "metadata": {},
   "source": [
    "answer: Любое количество"
   ]
  },
  {
   "cell_type": "markdown",
   "metadata": {},
   "source": [
    "### Task 22"
   ]
  },
  {
   "cell_type": "code",
   "execution_count": 446,
   "metadata": {},
   "outputs": [
    {
     "data": {
      "application/javascript": [
       "\n",
       "function sayHi(name) {\n",
       "    element.text('Hi', name);\n",
       "}\n",
       "\n",
       "sayHi('Bob');\n"
      ],
      "text/plain": [
       "<IPython.core.display.Javascript object>"
      ]
     },
     "metadata": {},
     "output_type": "display_data"
    }
   ],
   "source": [
    "%%js\n",
    "\n",
    "function sayHi(name) {\n",
    "    element.text('Hi', name);\n",
    "}\n",
    "\n",
    "sayHi('Bob');"
   ]
  },
  {
   "cell_type": "markdown",
   "metadata": {},
   "source": [
    "answer: sayHi('Bob')"
   ]
  },
  {
   "cell_type": "markdown",
   "metadata": {},
   "source": [
    "### Task 23"
   ]
  },
  {
   "cell_type": "code",
   "execution_count": null,
   "metadata": {},
   "outputs": [],
   "source": [
    "%%js\n",
    "\n",
    "var a = 1;\n",
    "\n",
    "function f1() {\n",
    "    element.text(a);\n",
    "}\n",
    "\n",
    "function f2() {\n",
    "    var a = 2;\n",
    "    \n",
    "    f1();\n",
    "}\n",
    "\n",
    "f2();"
   ]
  },
  {
   "cell_type": "markdown",
   "metadata": {},
   "source": [
    "answer: "
   ]
  },
  {
   "cell_type": "markdown",
   "metadata": {},
   "source": [
    "### Task 24"
   ]
  },
  {
   "cell_type": "code",
   "execution_count": null,
   "metadata": {},
   "outputs": [],
   "source": [
    "%%js\n",
    "\n",
    "let user = {\n",
    "    name: 'Ann',\n",
    "    sayHi: function() {\n",
    "        element.text('Hi, I am ', this.name);\n",
    "    }\n",
    "};\n",
    "\n",
    "user.sayHi.name = 'Bob';\n",
    "let sayHi = user.sayHi;\n",
    "sayHi(); // Hi, I am Bob"
   ]
  },
  {
   "cell_type": "markdown",
   "metadata": {},
   "source": [
    "answer: "
   ]
  },
  {
   "cell_type": "markdown",
   "metadata": {},
   "source": [
    "### Task 25"
   ]
  },
  {
   "cell_type": "markdown",
   "metadata": {},
   "source": [
    "I am tired"
   ]
  },
  {
   "cell_type": "markdown",
   "metadata": {},
   "source": [
    "answer: "
   ]
  },
  {
   "cell_type": "markdown",
   "metadata": {},
   "source": [
    "### Task 26"
   ]
  },
  {
   "cell_type": "code",
   "execution_count": null,
   "metadata": {},
   "outputs": [],
   "source": [
    "%%js\n",
    "\n",
    "function foo() {\n",
    "    var a = 1;\n",
    "    \n",
    "    if (a > 0) {\n",
    "        var a = 2;\n",
    "    }\n",
    "    \n",
    "    element.text(a);\n",
    "}\n",
    "\n",
    "foo();"
   ]
  },
  {
   "cell_type": "markdown",
   "metadata": {},
   "source": [
    "answer: "
   ]
  },
  {
   "cell_type": "markdown",
   "metadata": {},
   "source": [
    "### Task 27"
   ]
  },
  {
   "cell_type": "code",
   "execution_count": null,
   "metadata": {},
   "outputs": [],
   "source": [
    "%%js\n",
    "\n",
    "const promise = Promise.reject('a')\n",
    "    .then(x => x+'b')\n",
    "    .catch(x => x+'d')\n",
    "    .catch(x => x+'e')\n",
    "    .then(x => x+'g')\n",
    "    \n",
    "promise.then(x => element.text(x))"
   ]
  },
  {
   "cell_type": "markdown",
   "metadata": {},
   "source": [
    "answer: "
   ]
  },
  {
   "cell_type": "markdown",
   "metadata": {},
   "source": [
    "### Task 28"
   ]
  },
  {
   "cell_type": "code",
   "execution_count": null,
   "metadata": {},
   "outputs": [],
   "source": [
    "%%js\n",
    "\n",
    "element.text(1);\n",
    "setTimeout(function() {element.text(2);}, 1000);\n",
    "setTimeout(function() {element.text(3);}, 0);\n",
    "element.text(4); // 1 4 3 2"
   ]
  },
  {
   "cell_type": "markdown",
   "metadata": {},
   "source": [
    "answer: "
   ]
  },
  {
   "cell_type": "markdown",
   "metadata": {},
   "source": [
    "### Task 29"
   ]
  },
  {
   "cell_type": "code",
   "execution_count": null,
   "metadata": {},
   "outputs": [],
   "source": [
    "%%js\n",
    "\n",
    "for (var i = 0; i < 10; i++) {\n",
    "    setTimeout(function() {element.text(i)}, 1000);\n",
    "} // 10 on 10"
   ]
  },
  {
   "cell_type": "markdown",
   "metadata": {},
   "source": [
    "answer: "
   ]
  },
  {
   "cell_type": "markdown",
   "metadata": {},
   "source": [
    "### Task 30"
   ]
  },
  {
   "cell_type": "markdown",
   "metadata": {},
   "source": [
    "I am tired"
   ]
  },
  {
   "cell_type": "markdown",
   "metadata": {},
   "source": [
    "answer: "
   ]
  },
  {
   "cell_type": "markdown",
   "metadata": {},
   "source": [
    "### Task 31"
   ]
  },
  {
   "cell_type": "code",
   "execution_count": null,
   "metadata": {},
   "outputs": [],
   "source": [
    "%%js\n",
    "\n",
    "function User() {}\n",
    "User.prototype = {admin: false};\n",
    "\n",
    "const user = new User();\n",
    "element.text(user.admin);"
   ]
  },
  {
   "cell_type": "markdown",
   "metadata": {},
   "source": [
    "answer: "
   ]
  },
  {
   "cell_type": "markdown",
   "metadata": {},
   "source": [
    "### Task 32"
   ]
  },
  {
   "cell_type": "code",
   "execution_count": null,
   "metadata": {},
   "outputs": [],
   "source": [
    "%%js\n",
    "\n",
    "function User() {}\n",
    "User.prototype = {admin: false};\n",
    "\n",
    "const user = new User();\n",
    "User.prototype.admin = true;\n",
    "element.text(user.admin);"
   ]
  },
  {
   "cell_type": "markdown",
   "metadata": {},
   "source": [
    "answer: "
   ]
  },
  {
   "cell_type": "markdown",
   "metadata": {},
   "source": [
    "### Task 33"
   ]
  },
  {
   "cell_type": "code",
   "execution_count": null,
   "metadata": {},
   "outputs": [],
   "source": [
    "%%js\n",
    "\n",
    "function User() {}\n",
    "User.prototype = {admin: false};\n",
    "\n",
    "const user = new User();\n",
    "User.prototype = {admin: true};\n",
    "element.text(user.admin);"
   ]
  },
  {
   "cell_type": "markdown",
   "metadata": {},
   "source": [
    "answer: "
   ]
  },
  {
   "cell_type": "markdown",
   "metadata": {},
   "source": [
    "### Task 34"
   ]
  },
  {
   "cell_type": "code",
   "execution_count": null,
   "metadata": {},
   "outputs": [],
   "source": [
    "%%js\n",
    "\n",
    "const a = {};\n",
    "const b = {};\n",
    "\n",
    "element.text(a.__proto__ === b.__proto__)"
   ]
  },
  {
   "cell_type": "markdown",
   "metadata": {},
   "source": [
    "answer: "
   ]
  },
  {
   "cell_type": "markdown",
   "metadata": {},
   "source": [
    "### Task 35"
   ]
  },
  {
   "cell_type": "markdown",
   "metadata": {},
   "source": [
    "document.querySelector('.name')"
   ]
  },
  {
   "cell_type": "markdown",
   "metadata": {},
   "source": [
    "answer: "
   ]
  }
 ],
 "metadata": {
  "kernelspec": {
   "display_name": "Python 3",
   "language": "python",
   "name": "python3"
  },
  "language_info": {
   "codemirror_mode": {
    "name": "ipython",
    "version": 3
   },
   "file_extension": ".py",
   "mimetype": "text/x-python",
   "name": "python",
   "nbconvert_exporter": "python",
   "pygments_lexer": "ipython3",
   "version": "3.7.3"
  }
 },
 "nbformat": 4,
 "nbformat_minor": 2
}
