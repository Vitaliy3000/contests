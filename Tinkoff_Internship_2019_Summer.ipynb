{
 "cells": [
  {
   "cell_type": "code",
   "execution_count": 1,
   "metadata": {},
   "outputs": [],
   "source": [
    "from test_settings import test"
   ]
  },
  {
   "cell_type": "markdown",
   "metadata": {},
   "source": [
    "# Шагомеры"
   ]
  },
  {
   "cell_type": "markdown",
   "metadata": {},
   "source": [
    "Саша устроился работать представителем Tinkoff и проходит обучение: в первый день, чтобы доставить карты клиентам, он прошел X метров. Путь каждого следующего дня получался длиннее на 70% от предыдущего дня. Саша хочет за все дни работы суммарно пройти не менее Y метров, на какой день он достигнет своей цели?"
   ]
  },
  {
   "cell_type": "markdown",
   "metadata": {},
   "source": [
    "### Линейный алгоритм O(N)"
   ]
  },
  {
   "cell_type": "code",
   "execution_count": 2,
   "metadata": {},
   "outputs": [],
   "source": [
    "def pedometer(start, finish, q):\n",
    "    last = summ = start\n",
    "    counter = 1\n",
    "    while summ < finish:\n",
    "        last *= q\n",
    "        summ += last\n",
    "        counter += 1\n",
    "    return counter"
   ]
  },
  {
   "cell_type": "markdown",
   "metadata": {},
   "source": [
    "### Бинарный поиск O(ln(N))"
   ]
  },
  {
   "cell_type": "code",
   "execution_count": 3,
   "metadata": {},
   "outputs": [],
   "source": [
    "def pedometer(start, finish, q):  \n",
    "    gp = lambda n: start*(1-q**n)/(1-q)\n",
    "    last_n = 0\n",
    "    n = 1\n",
    "    while gp(n) < finish:\n",
    "        last_n = n\n",
    "        n *= 2\n",
    "    while n - last_n != 1:\n",
    "        middle_n = (n+last_n)//2\n",
    "        if gp(middle_n) < finish:\n",
    "            last_n = middle_n\n",
    "        else:\n",
    "            n = middle_n\n",
    "    return n"
   ]
  },
  {
   "cell_type": "markdown",
   "metadata": {},
   "source": [
    "### Константное решение O(1)"
   ]
  },
  {
   "cell_type": "code",
   "execution_count": 4,
   "metadata": {},
   "outputs": [],
   "source": [
    "from math import log, ceil\n",
    "\n",
    "def pedometer(start, finish, q):\n",
    "    result = ceil(log((1+finish*(q-1)/start), q))\n",
    "    return result if result > 0 else 1"
   ]
  },
  {
   "cell_type": "markdown",
   "metadata": {},
   "source": [
    "### Тесты"
   ]
  },
  {
   "cell_type": "code",
   "execution_count": 5,
   "metadata": {},
   "outputs": [
    {
     "name": "stdout",
     "output_type": "stream",
     "text": [
      "Test 1 is good. Time: 0.0\n",
      "\n",
      "Test 2 is good. Time: 0.0\n",
      "\n",
      "Test 3 is good. Time: 0.0\n",
      "\n",
      "Test 4 is good. Time: 0.0\n",
      "\n",
      "Test 5 is good. Time: 0.0\n",
      "\n",
      "Test 6 is good. Time: 0.0\n",
      "\n",
      "Test 7 is good. Time: 0.0\n",
      "\n",
      "Test 8 is good. Time: 0.0\n",
      "\n",
      "Test 9 is good. Time: 0.0\n",
      "\n",
      "Test 10 is good. Time: 0.0\n",
      "\n",
      "Function is Good\n"
     ]
    }
   ],
   "source": [
    "data = {\n",
    "    (10, 200, 1.7): 6,\n",
    "    (10, 5, 1.7): 1,\n",
    "    (1, 100, 1.7): 9,\n",
    "    (1, 1000, 1.7): 13,\n",
    "    (10, 10, 1.7): 1,\n",
    "    (10, 11, 1.7): 2,\n",
    "    (100, 1000, 1.7): 4,\n",
    "    (999, 1000, 1.7): 2,\n",
    "    (999, 999, 1.7): 1,\n",
    "    (1000, 1, 1.7): 1,\n",
    "}\n",
    "\n",
    "test(pedometer, data)"
   ]
  },
  {
   "cell_type": "markdown",
   "metadata": {},
   "source": [
    "# Остатки по порядку"
   ]
  },
  {
   "cell_type": "markdown",
   "metadata": {},
   "source": [
    "Слава загадывает число N, а Олег пытается его угадать. В качестве подсказок Слава выписывает остаток от деления загаданного числа на числа 2, 3, ..., M, пока Олег не угадывает число. По записям Славы помогите Олегу найти наименьшее натуральное N, которое бы удовлетворяло записям Славы."
   ]
  },
  {
   "cell_type": "markdown",
   "metadata": {},
   "source": [
    "### Линейный поиск O(NM)"
   ]
  },
  {
   "cell_type": "code",
   "execution_count": 6,
   "metadata": {},
   "outputs": [],
   "source": [
    "def remnants_in_order(array):\n",
    "    condition = lambda n: all([n%i==x\n",
    "                               for i,x in enumerate(array, 2)])\n",
    "    n = 1\n",
    "    while not condition(n):\n",
    "        n += 1\n",
    "    return n"
   ]
  },
  {
   "cell_type": "markdown",
   "metadata": {},
   "source": [
    "### Faster"
   ]
  },
  {
   "cell_type": "code",
   "execution_count": 7,
   "metadata": {},
   "outputs": [],
   "source": [
    "def simple_factors(number):\n",
    "    result = {}\n",
    "    while number != 1:\n",
    "        for i in range(2, int(number**0.5)+1):\n",
    "            if number%i == 0:\n",
    "                result[i] = result.get(i, 0) + 1\n",
    "                number //= i\n",
    "                break\n",
    "        else:\n",
    "            result[number] = result.get(number, 0) + 1\n",
    "            number = 1\n",
    "    return result\n",
    "\n",
    "\n",
    "def intersection(dict1, dict2):\n",
    "    result = {}\n",
    "    tmp_dict = dict2.copy()\n",
    "    for key, val in dict1.items():\n",
    "        result[key] = max(val, tmp_dict.pop(key, 0))\n",
    "    for key, val in tmp_dict.items():\n",
    "        result[key] = val\n",
    "    return result\n",
    "\n",
    "\n",
    "def mul(dict_counts):\n",
    "    result = 1\n",
    "    for x, y in dict_counts.items():\n",
    "        result *= x**y\n",
    "    return result\n",
    "\n",
    "\n",
    "def find(num, add, div, mod):\n",
    "    while num%div != mod:\n",
    "        num += add\n",
    "    return num\n",
    "\n",
    "\n",
    "def remnants_in_order(array):\n",
    "    n = 1\n",
    "    adder = 1\n",
    "    for div, mod in enumerate(array, 2):\n",
    "        n = find(n, adder, div, mod)\n",
    "        adder = mul(intersection(simple_factors(adder), simple_factors(div)))\n",
    "    return n"
   ]
  },
  {
   "cell_type": "markdown",
   "metadata": {},
   "source": [
    "### Тесты"
   ]
  },
  {
   "cell_type": "code",
   "execution_count": 8,
   "metadata": {},
   "outputs": [
    {
     "name": "stdout",
     "output_type": "stream",
     "text": [
      "Test 1 is good. Time: 0.0\n",
      "\n",
      "Test 2 is good. Time: 0.0\n",
      "\n",
      "Test 3 is good. Time: 0.0\n",
      "\n",
      "Test 4 is good. Time: 0.0\n",
      "\n",
      "Test 5 is good. Time: 0.0\n",
      "\n",
      "Test 6 is good. Time: 0.0\n",
      "\n",
      "Test 7 is good. Time: 0.01\n",
      "\n",
      "Test 8 is good. Time: 0.0\n",
      "\n",
      "Test 9 is good. Time: 0.0\n",
      "\n",
      "Function is Good\n"
     ]
    }
   ],
   "source": [
    "data = (\n",
    "    (([1, 2, 3, 4, 5],), 59),\n",
    "    ((list(range(10)),), 27718),\n",
    "    ((list(range(1, 10)),), 2519),\n",
    "    (([1],), 1),\n",
    "    (([0],), 2),\n",
    "    (([0, 0],), 6),\n",
    "    (([0]*39,), 5342931457063200),\n",
    "    (([1, 2],), 5),\n",
    "    (([1, 1],), 1),\n",
    ")\n",
    "\n",
    "test(remnants_in_order, data)"
   ]
  },
  {
   "cell_type": "markdown",
   "metadata": {},
   "source": [
    "# Опустошенный треугольник"
   ]
  },
  {
   "cell_type": "markdown",
   "metadata": {},
   "source": [
    "Дима отмечает на плоскости несколько точек. Затем он передает картинку Антону и тот пытается определить, можно ли нарисовать треугольник, такой, что вершины треугольника находятся в отмеченных точках, а внутри этого треугольника нет других отмеченных точек. Если точка лежит на границе треугольника, то она лежит не внутри данного треугольника. Помогите Антону написать программу, которая выяснит это за него."
   ]
  },
  {
   "cell_type": "markdown",
   "metadata": {},
   "source": [
    "### Однопроходный алгоритм O(N)"
   ]
  },
  {
   "cell_type": "code",
   "execution_count": 9,
   "metadata": {},
   "outputs": [],
   "source": [
    "def ravaged_triangle(points):\n",
    "    if len(points) < 3:\n",
    "        return False\n",
    "    x1, y1 = points[0]\n",
    "    x2, y2 = points[1]\n",
    "    condition = lambda x, y: (y1-y2)*(x1-x) == (x1-x2)*(y1-y)\n",
    "    return not all([condition(*points[i])\n",
    "                    for i in range(2, len(points))])"
   ]
  },
  {
   "cell_type": "markdown",
   "metadata": {},
   "source": [
    "### Тесты"
   ]
  },
  {
   "cell_type": "code",
   "execution_count": 10,
   "metadata": {},
   "outputs": [
    {
     "name": "stdout",
     "output_type": "stream",
     "text": [
      "Test 1 is good. Time: 0.0\n",
      "\n",
      "Test 2 is good. Time: 0.0\n",
      "\n",
      "Test 3 is good. Time: 0.0\n",
      "\n",
      "Test 4 is good. Time: 0.0\n",
      "\n",
      "Test 5 is good. Time: 0.0\n",
      "\n",
      "Function is Good\n"
     ]
    }
   ],
   "source": [
    "data = (\n",
    "    (([(1,1)],), False),\n",
    "    (([(2,2), (1,1)],), False),\n",
    "    (([(1,1), (-1,-1), (0,0)],), False),\n",
    "    (([(0,0), (1,1), (2,0)],), True),\n",
    "    (([(5,5), (5,6), (5,6), (6,6)],), True),\n",
    ")\n",
    "\n",
    "test(ravaged_triangle, data)"
   ]
  },
  {
   "cell_type": "markdown",
   "metadata": {},
   "source": [
    "# Для самого маленького"
   ]
  },
  {
   "cell_type": "markdown",
   "metadata": {},
   "source": [
    "Илья изучает свойства делимости и тренируется в разложении чисел на простые множители. В качестве тренировки он хочет найти минимальный делитель N, отличный от 1. Помогите Илье написать такую программу."
   ]
  },
  {
   "cell_type": "markdown",
   "metadata": {},
   "source": [
    "### Однопроходный алгоритм O(N)"
   ]
  },
  {
   "cell_type": "code",
   "execution_count": 11,
   "metadata": {},
   "outputs": [],
   "source": [
    "def for_the_smallest(N):\n",
    "    M = 2\n",
    "    while N%M != 0:\n",
    "        M += 1\n",
    "        if M > N**0.5:\n",
    "            return N\n",
    "    return M"
   ]
  },
  {
   "cell_type": "markdown",
   "metadata": {},
   "source": [
    "### Тесты"
   ]
  },
  {
   "cell_type": "code",
   "execution_count": 12,
   "metadata": {},
   "outputs": [
    {
     "name": "stdout",
     "output_type": "stream",
     "text": [
      "Test 1 is good. Time: 0.0\n",
      "\n",
      "Test 2 is good. Time: 0.0\n",
      "\n",
      "Test 3 is good. Time: 0.0\n",
      "\n",
      "Test 4 is good. Time: 0.0\n",
      "\n",
      "Test 5 is good. Time: 0.0\n",
      "\n",
      "Test 6 is good. Time: 0.0\n",
      "\n",
      "Test 7 is good. Time: 0.0\n",
      "\n",
      "Test 8 is good. Time: 0.0\n",
      "\n",
      "Test 9 is good. Time: 0.0\n",
      "\n",
      "Test 10 is good. Time: 0.0\n",
      "\n",
      "Test 11 is good. Time: 0.0\n",
      "\n",
      "Function is Good\n"
     ]
    }
   ],
   "source": [
    "data = {\n",
    "    (6,): 2,\n",
    "    (5,): 5,\n",
    "    (3,): 3,\n",
    "    (2,): 2,\n",
    "    (10**9,): 2,\n",
    "    (3671,): 3671,\n",
    "    (115249,): 115249,\n",
    "    (1100101,): 1100101,\n",
    "    (37*37, ): 37,\n",
    "    (37*31,): 31,\n",
    "    (37**2*31,): 31,\n",
    "}\n",
    "\n",
    "test(for_the_smallest, data)"
   ]
  },
  {
   "cell_type": "markdown",
   "metadata": {},
   "source": [
    "# Строгость и открытость"
   ]
  },
  {
   "cell_type": "markdown",
   "metadata": {},
   "source": [
    "Сережа стал начальником службы информационной безопасности и разрабатывает регламент генерации пароля. Пароль должен включать в себя три сущности одновременно: строчные латинские буквы, заглавные латинские буквы, цифры, а его длина должна быть не менее 8 символов. Напишите программу, которая скажет, удовлетворит ли Сережу пароль, который придумал сотрудник."
   ]
  },
  {
   "cell_type": "code",
   "execution_count": 13,
   "metadata": {},
   "outputs": [],
   "source": [
    "def rigor_and_openness(password):\n",
    "    if len(password) < 8:\n",
    "        return False\n",
    "    flg_lower = flg_upper = flg_digit = False\n",
    "    ascii_lower = list(range(ord('a'), ord('z')+1))\n",
    "    ascii_upper = list(range(ord('A'), ord('Z')+1))\n",
    "    for letter in password:\n",
    "        flg_lower = flg_lower or ord(letter) in ascii_lower\n",
    "        flg_upper = flg_upper or ord(letter) in ascii_upper\n",
    "        flg_digit = flg_digit or letter.isdigit()\n",
    "    return flg_lower and flg_upper and flg_digit"
   ]
  },
  {
   "cell_type": "markdown",
   "metadata": {},
   "source": [
    "### Тесты"
   ]
  },
  {
   "cell_type": "code",
   "execution_count": 14,
   "metadata": {},
   "outputs": [
    {
     "name": "stdout",
     "output_type": "stream",
     "text": [
      "Test 1 is good. Time: 0.0\n",
      "\n",
      "Test 2 is good. Time: 0.0\n",
      "\n",
      "Test 3 is good. Time: 0.0\n",
      "\n",
      "Test 4 is good. Time: 0.0\n",
      "\n",
      "Test 5 is good. Time: 0.0\n",
      "\n",
      "Test 6 is good. Time: 0.0\n",
      "\n",
      "Test 7 is good. Time: 0.0\n",
      "\n",
      "Function is Good\n"
     ]
    }
   ],
   "source": [
    "data = {\n",
    "    ('1',): False,\n",
    "    ('a'*500+'A'*500,): False,\n",
    "    ('1'*1000,): False,\n",
    "    ('',): False,\n",
    "    ('Test1',): False,\n",
    "    ('Test2_s8',): True,\n",
    "    ('Test3s7',): False,\n",
    "}\n",
    "\n",
    "test(rigor_and_openness, data)"
   ]
  },
  {
   "cell_type": "markdown",
   "metadata": {},
   "source": [
    "# Пинкод"
   ]
  },
  {
   "cell_type": "markdown",
   "metadata": {},
   "source": [
    "Компания тестирует новый алгоритм генерации одноразовых паролей. Пароль получается следующим набором шагов:\n",
    "\n",
    "\n",
    "1) Берется таблица размера NxM, где каждая ячейка содержит строчную букву английского алфавита.\n",
    "\n",
    "\n",
    "2) Берутся всевозможные строки, образованные при проходе от левого верхнего угла таблицы в правый нижний угол таблицы строго при условии движения по клеткам или вниз, или вправо.\n",
    "\n",
    "\n",
    "3) Полученные строки (не всегда уникальные) упорядочиваются в алфавитном порядке, а в качестве одноразового пароля алгоритм выбирает L строку.\n",
    "\n",
    "\n",
    "Напишите указанный алгоритм генерации паролей."
   ]
  },
  {
   "cell_type": "code",
   "execution_count": null,
   "metadata": {},
   "outputs": [],
   "source": []
  },
  {
   "cell_type": "markdown",
   "metadata": {},
   "source": [
    "# Ёлочки"
   ]
  },
  {
   "cell_type": "markdown",
   "metadata": {},
   "source": [
    "Тая готовит открытки к Новому году и рисует на них елочки с помощью ASCII-графики. Елочка задается количеством треугольников (сколько уровней у елочки) и размером самого маленького треугольника. Вершины треугольников каждого уровня находятся строго друг под другом. Каждый следующий уровень содержит на одну строку больше предыдущего.\n",
    "\n",
    "\n",
    "Тая размещает все ёлочки так, что по вертикали они начинаются с первой строки. Каждая елочка должна быть расположена как можно левее, при этом елочки не должны соприкасаться (по бокам и по диагонали не должно быть символов, изображающих другую елочку). Порядок следования елочек должен сохраняться.\n",
    "\n",
    "\n",
    "Елочки изображаются «#», а пустые места между ними — «.» . Во всех строках должно быть выведено одинаковое количество символов, при этом есть строка, в которой последний символ «#», в последней строке обязательно должны быть «#»."
   ]
  },
  {
   "cell_type": "code",
   "execution_count": null,
   "metadata": {},
   "outputs": [],
   "source": []
  }
 ],
 "metadata": {
  "kernelspec": {
   "display_name": "Python 3",
   "language": "python",
   "name": "python3"
  },
  "language_info": {
   "codemirror_mode": {
    "name": "ipython",
    "version": 3
   },
   "file_extension": ".py",
   "mimetype": "text/x-python",
   "name": "python",
   "nbconvert_exporter": "python",
   "pygments_lexer": "ipython3",
   "version": "3.7.3"
  }
 },
 "nbformat": 4,
 "nbformat_minor": 2
}
