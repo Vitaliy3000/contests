{
 "cells": [
  {
   "cell_type": "code",
   "execution_count": 1,
   "metadata": {},
   "outputs": [],
   "source": [
    "from test_settings import test"
   ]
  },
  {
   "cell_type": "markdown",
   "metadata": {},
   "source": [
    "# Шагомеры"
   ]
  },
  {
   "cell_type": "markdown",
   "metadata": {},
   "source": [
    "### Линейный алгоритм O(N)"
   ]
  },
  {
   "cell_type": "code",
   "execution_count": 2,
   "metadata": {},
   "outputs": [],
   "source": [
    "def pedometer(start, finish, q):\n",
    "    last = summ = start\n",
    "    counter = 1\n",
    "    while summ < finish:\n",
    "        last *= q\n",
    "        summ += last\n",
    "        counter += 1\n",
    "    return counter"
   ]
  },
  {
   "cell_type": "markdown",
   "metadata": {},
   "source": [
    "### Бинарный поиск O(ln(N))"
   ]
  },
  {
   "cell_type": "code",
   "execution_count": 3,
   "metadata": {},
   "outputs": [],
   "source": [
    "def pedometer(start, finish, q):  \n",
    "    gp = lambda n: start*(1-q**n)/(1-q)\n",
    "    last_n = 0\n",
    "    n = 1\n",
    "    while gp(n) < finish:\n",
    "        last_n = n\n",
    "        n *= 2\n",
    "    while n - last_n != 1:\n",
    "        middle_n = (n+last_n)//2\n",
    "        if gp(middle_n) < finish:\n",
    "            last_n = middle_n\n",
    "        else:\n",
    "            n = middle_n\n",
    "    return n"
   ]
  },
  {
   "cell_type": "markdown",
   "metadata": {},
   "source": [
    "### Константное решение O(1)"
   ]
  },
  {
   "cell_type": "code",
   "execution_count": 4,
   "metadata": {},
   "outputs": [],
   "source": [
    "from math import log, ceil\n",
    "\n",
    "def pedometer(start, finish, q):\n",
    "    result = ceil(log((1+finish*(q-1)/start), q))\n",
    "    return result if result > 0 else 1"
   ]
  },
  {
   "cell_type": "markdown",
   "metadata": {},
   "source": [
    "### Тесты"
   ]
  },
  {
   "cell_type": "code",
   "execution_count": 5,
   "metadata": {},
   "outputs": [
    {
     "name": "stdout",
     "output_type": "stream",
     "text": [
      "Test 1 is good. Time: 0.0\n",
      "\n",
      "Test 2 is good. Time: 0.0\n",
      "\n",
      "Test 3 is good. Time: 0.0\n",
      "\n",
      "Test 4 is good. Time: 0.0\n",
      "\n",
      "Test 5 is good. Time: 0.0\n",
      "\n",
      "Test 6 is good. Time: 0.0\n",
      "\n",
      "Test 7 is good. Time: 0.0\n",
      "\n",
      "Test 8 is good. Time: 0.0\n",
      "\n",
      "Test 9 is good. Time: 0.0\n",
      "\n",
      "Test 10 is good. Time: 0.0\n",
      "\n",
      "Function is Good\n"
     ]
    }
   ],
   "source": [
    "data = {\n",
    "    (10, 200, 1.7): 6,\n",
    "    (10, 5, 1.7): 1,\n",
    "    (1, 100, 1.7): 9,\n",
    "    (1, 1000, 1.7): 13,\n",
    "    (10, 10, 1.7): 1,\n",
    "    (10, 11, 1.7): 2,\n",
    "    (100, 1000, 1.7): 4,\n",
    "    (999, 1000, 1.7): 2,\n",
    "    (999, 999, 1.7): 1,\n",
    "    (1000, 1, 1.7): 1,\n",
    "}\n",
    "\n",
    "test(pedometer, data)"
   ]
  },
  {
   "cell_type": "markdown",
   "metadata": {},
   "source": [
    "# Остатки по порядку"
   ]
  },
  {
   "cell_type": "markdown",
   "metadata": {},
   "source": [
    "### Линейный поиск O(NM)"
   ]
  },
  {
   "cell_type": "code",
   "execution_count": 9,
   "metadata": {},
   "outputs": [],
   "source": [
    "def remnants_in_order(array):\n",
    "    condition = lambda n: all([n%i==x\n",
    "                               for i,x in enumerate(array, 2)])\n",
    "    n = 1\n",
    "    while not condition(n):\n",
    "        n += 1\n",
    "    return n"
   ]
  },
  {
   "cell_type": "markdown",
   "metadata": {},
   "source": [
    "### Тесты"
   ]
  },
  {
   "cell_type": "code",
   "execution_count": 12,
   "metadata": {},
   "outputs": [
    {
     "name": "stdout",
     "output_type": "stream",
     "text": [
      "Test 1 is good. Time: 0.0\n",
      "\n",
      "Test 2 is good. Time: 0.0\n",
      "\n",
      "Test 3 is good. Time: 0.0\n",
      "\n",
      "Test 4 is good. Time: 0.0\n",
      "\n",
      "Test 5 is good. Time: 0.0\n",
      "\n",
      "Test 6 is good. Time: 0.0\n",
      "\n",
      "Function is Good\n"
     ]
    }
   ],
   "source": [
    "data = (\n",
    "    (([1, 2, 3, 4, 5],), 59),\n",
    "    #((list(range(2,41)),), False),\n",
    "    (([1],), 1),\n",
    "    (([0],), 2),\n",
    "    (([0, 0],), 6),\n",
    "    #(([0]*39,),  False),\n",
    "    (([1, 2],), 5),\n",
    "    (([1, 1],), 1),\n",
    ")\n",
    "\n",
    "test(remnants_in_order, data)"
   ]
  },
  {
   "cell_type": "markdown",
   "metadata": {},
   "source": [
    "# Опустошенный треугольник"
   ]
  },
  {
   "cell_type": "markdown",
   "metadata": {},
   "source": [
    "### Однопроходный алгоритм O(N)"
   ]
  },
  {
   "cell_type": "code",
   "execution_count": 13,
   "metadata": {},
   "outputs": [],
   "source": [
    "def ravaged_triangle(points):\n",
    "    if len(points) < 3:\n",
    "        return False\n",
    "    x1, y1 = points[0]\n",
    "    x2, y2 = points[1]\n",
    "    condition = lambda x, y: (y1-y2)*(x1-x) == (x1-x2)*(y1-y)\n",
    "    return not all([condition(*points[i])\n",
    "                    for i in range(2, len(points))])"
   ]
  },
  {
   "cell_type": "markdown",
   "metadata": {},
   "source": [
    "### Тесты"
   ]
  },
  {
   "cell_type": "code",
   "execution_count": 17,
   "metadata": {},
   "outputs": [
    {
     "name": "stdout",
     "output_type": "stream",
     "text": [
      "Test 1 is good. Time: 0.0\n",
      "\n",
      "Test 2 is good. Time: 0.0\n",
      "\n",
      "Test 3 is good. Time: 0.0\n",
      "\n",
      "Test 4 is good. Time: 0.0\n",
      "\n",
      "Test 5 is good. Time: 0.0\n",
      "\n",
      "Function is Good\n"
     ]
    }
   ],
   "source": [
    "data = (\n",
    "    (([(1,1)],), False),\n",
    "    (([(2,2), (1,1)],), False),\n",
    "    (([(1,1), (-1,-1), (0,0)],), False),\n",
    "    (([(0,0), (1,1), (2,0)],), True),\n",
    "    (([(5,5), (5,6), (5,6), (6,6)],), True),\n",
    ")\n",
    "\n",
    "test(ravaged_triangle, data)"
   ]
  },
  {
   "cell_type": "markdown",
   "metadata": {},
   "source": [
    "# Для самого маленького"
   ]
  },
  {
   "cell_type": "markdown",
   "metadata": {},
   "source": [
    "### Однопроходный алгоритм O(N)"
   ]
  },
  {
   "cell_type": "code",
   "execution_count": 20,
   "metadata": {},
   "outputs": [],
   "source": [
    "def for_the_smallest(N):\n",
    "    M = 2\n",
    "    while N%M != 0:\n",
    "        M += 1\n",
    "        if M > N**0.5:\n",
    "            return N\n",
    "    return M"
   ]
  },
  {
   "cell_type": "markdown",
   "metadata": {},
   "source": [
    "### Тесты"
   ]
  },
  {
   "cell_type": "code",
   "execution_count": 22,
   "metadata": {},
   "outputs": [
    {
     "name": "stdout",
     "output_type": "stream",
     "text": [
      "Test 1 is good. Time: 0.0\n",
      "\n",
      "Test 2 is good. Time: 0.0\n",
      "\n",
      "Test 3 is good. Time: 0.0\n",
      "\n",
      "Test 4 is good. Time: 0.0\n",
      "\n",
      "Test 5 is good. Time: 0.0\n",
      "\n",
      "Test 6 is good. Time: 0.0\n",
      "\n",
      "Test 7 is good. Time: 0.0\n",
      "\n",
      "Test 8 is good. Time: 0.0\n",
      "\n",
      "Test 9 is good. Time: 0.0\n",
      "\n",
      "Test 10 is good. Time: 0.0\n",
      "\n",
      "Test 11 is good. Time: 0.0\n",
      "\n",
      "Function is Good\n"
     ]
    }
   ],
   "source": [
    "data = {\n",
    "    (6,): 2,\n",
    "    (5,): 5,\n",
    "    (3,): 3,\n",
    "    (2,): 2,\n",
    "    (10**9,): 2,\n",
    "    (3671,): 3671,\n",
    "    (115249,): 115249,\n",
    "    (1100101,): 1100101,\n",
    "    (37*37, ): 37,\n",
    "    (37*31,): 31,\n",
    "    (37**2*31,): 31,\n",
    "}\n",
    "\n",
    "test(for_the_smallest, data)"
   ]
  },
  {
   "cell_type": "markdown",
   "metadata": {},
   "source": [
    "# Строгость и открытость"
   ]
  },
  {
   "cell_type": "code",
   "execution_count": 23,
   "metadata": {},
   "outputs": [],
   "source": [
    "def rigor_and_openness(password):\n",
    "    if len(password) < 8:\n",
    "        return False\n",
    "    flg_lower = flg_upper = flg_digit = False\n",
    "    ascii_lower = list(range(ord('a'), ord('z')+1))\n",
    "    ascii_upper = list(range(ord('A'), ord('Z')+1))\n",
    "    for letter in password:\n",
    "        flg_lower = flg_lower or ord(letter) in ascii_lower\n",
    "        flg_upper = flg_upper or ord(letter) in ascii_upper\n",
    "        flg_digit = flg_digit or letter.isdigit()\n",
    "    return flg_lower and flg_upper and flg_digit"
   ]
  },
  {
   "cell_type": "markdown",
   "metadata": {},
   "source": [
    "### Тесты"
   ]
  },
  {
   "cell_type": "code",
   "execution_count": 24,
   "metadata": {},
   "outputs": [
    {
     "name": "stdout",
     "output_type": "stream",
     "text": [
      "Test 1 is good. Time: 0.0\n",
      "\n",
      "Test 2 is good. Time: 0.0\n",
      "\n",
      "Test 3 is good. Time: 0.0\n",
      "\n",
      "Test 4 is good. Time: 0.0\n",
      "\n",
      "Test 5 is good. Time: 0.0\n",
      "\n",
      "Test 6 is good. Time: 0.0\n",
      "\n",
      "Test 7 is good. Time: 0.0\n",
      "\n",
      "Function is Good\n"
     ]
    }
   ],
   "source": [
    "data = {\n",
    "    ('1',): False,\n",
    "    ('a'*500+'A'*500,): False,\n",
    "    ('1'*1000,): False,\n",
    "    ('',): False,\n",
    "    ('Test1',): False,\n",
    "    ('Test2_s8',): True,\n",
    "    ('Test3s7',): False,\n",
    "}\n",
    "\n",
    "test(rigor_and_openness, data)"
   ]
  },
  {
   "cell_type": "markdown",
   "metadata": {},
   "source": [
    "# Пинкод"
   ]
  },
  {
   "cell_type": "code",
   "execution_count": null,
   "metadata": {},
   "outputs": [],
   "source": []
  },
  {
   "cell_type": "markdown",
   "metadata": {},
   "source": [
    "# Ёлочки"
   ]
  },
  {
   "cell_type": "code",
   "execution_count": null,
   "metadata": {},
   "outputs": [],
   "source": []
  }
 ],
 "metadata": {
  "kernelspec": {
   "display_name": "Python 3",
   "language": "python",
   "name": "python3"
  },
  "language_info": {
   "codemirror_mode": {
    "name": "ipython",
    "version": 3
   },
   "file_extension": ".py",
   "mimetype": "text/x-python",
   "name": "python",
   "nbconvert_exporter": "python",
   "pygments_lexer": "ipython3",
   "version": "3.7.3"
  }
 },
 "nbformat": 4,
 "nbformat_minor": 2
}
