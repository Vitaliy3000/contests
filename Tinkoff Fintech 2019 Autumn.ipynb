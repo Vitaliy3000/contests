{
 "cells": [
  {
   "cell_type": "markdown",
   "metadata": {},
   "source": [
    "# Task 1"
   ]
  },
  {
   "cell_type": "code",
   "execution_count": 1,
   "metadata": {},
   "outputs": [],
   "source": [
    "def task1(text, people):\n",
    "    people = people.split(' ')\n",
    "    text = text.split(' ')\n",
    "    count_effective_actions = len(text) % len(people)\n",
    "    return people[count_effective_actions-1]"
   ]
  },
  {
   "cell_type": "code",
   "execution_count": 2,
   "metadata": {},
   "outputs": [
    {
     "name": "stdout",
     "output_type": "stream",
     "text": [
      "\n",
      "\n",
      "\n"
     ]
    }
   ],
   "source": [
    "text = input()\n",
    "people = input()\n",
    "print(task1(text, people))"
   ]
  },
  {
   "cell_type": "code",
   "execution_count": 3,
   "metadata": {},
   "outputs": [],
   "source": [
    "assert task1('I miss deadlines like a stormrooper misses Jedi', 'Sasha Vany Roma Albina Polina') == 'Roma'\n",
    "assert task1('Test prod', 'Sasha Roma') == 'Roma'\n",
    "assert task1('Word next word', 'People1 p2 p3 p4') == 'p3'\n",
    "assert task1('Word next word', 'p1 p2') == 'p1'\n",
    "assert task1('Word next word', 'p1 p2 p3') == 'p3'\n",
    "assert task1('Test next new test', 'Vasya Petya Roma') == 'Vasya'"
   ]
  },
  {
   "cell_type": "markdown",
   "metadata": {},
   "source": [
    "# Task 2"
   ]
  },
  {
   "cell_type": "code",
   "execution_count": 4,
   "metadata": {},
   "outputs": [],
   "source": [
    "def task2(S, T):\n",
    "    count_step = T // S\n",
    "    part_time = T % S\n",
    "    if count_step % 2 == 0:\n",
    "        return part_time\n",
    "    else:\n",
    "        return S - part_time"
   ]
  },
  {
   "cell_type": "code",
   "execution_count": 5,
   "metadata": {},
   "outputs": [
    {
     "name": "stdout",
     "output_type": "stream",
     "text": [
      "\n"
     ]
    },
    {
     "ename": "ValueError",
     "evalue": "not enough values to unpack (expected 2, got 0)",
     "output_type": "error",
     "traceback": [
      "\u001b[0;31m---------------------------------------------------------------------------\u001b[0m",
      "\u001b[0;31mValueError\u001b[0m                                Traceback (most recent call last)",
      "\u001b[0;32m<ipython-input-5-fdd24aae88e8>\u001b[0m in \u001b[0;36m<module>\u001b[0;34m\u001b[0m\n\u001b[0;32m----> 1\u001b[0;31m \u001b[0mS\u001b[0m\u001b[0;34m,\u001b[0m \u001b[0mT\u001b[0m \u001b[0;34m=\u001b[0m \u001b[0mmap\u001b[0m\u001b[0;34m(\u001b[0m\u001b[0mint\u001b[0m\u001b[0;34m,\u001b[0m \u001b[0minput\u001b[0m\u001b[0;34m(\u001b[0m\u001b[0;34m)\u001b[0m\u001b[0;34m.\u001b[0m\u001b[0msplit\u001b[0m\u001b[0;34m(\u001b[0m\u001b[0;34m)\u001b[0m\u001b[0;34m)\u001b[0m\u001b[0;34m\u001b[0m\u001b[0;34m\u001b[0m\u001b[0m\n\u001b[0m\u001b[1;32m      2\u001b[0m \u001b[0mprint\u001b[0m\u001b[0;34m(\u001b[0m\u001b[0mtask2\u001b[0m\u001b[0;34m(\u001b[0m\u001b[0mS\u001b[0m\u001b[0;34m,\u001b[0m \u001b[0mT\u001b[0m\u001b[0;34m)\u001b[0m\u001b[0;34m)\u001b[0m\u001b[0;34m\u001b[0m\u001b[0;34m\u001b[0m\u001b[0m\n",
      "\u001b[0;31mValueError\u001b[0m: not enough values to unpack (expected 2, got 0)"
     ]
    }
   ],
   "source": [
    "S, T = map(int, input().split())\n",
    "print(task2(S, T))"
   ]
  },
  {
   "cell_type": "code",
   "execution_count": 6,
   "metadata": {},
   "outputs": [],
   "source": [
    "assert task2(10, 16) == 4\n",
    "assert task2(10**9, 10**9) == 10**9\n",
    "assert task2(10**9//2, 10**9) == 0\n",
    "assert task2(10**4, 10**5) == 0\n",
    "assert task2(20, 20) == 20\n",
    "assert task2(20, 16) == 16\n",
    "assert task2(20, 30) == 10\n",
    "assert task2(20, 40) == 0\n",
    "assert task2(1, 1) == 1\n",
    "assert task2(1, 10) == 0\n",
    "assert task2(1, 11) == 1\n",
    "assert task2(10000, 1) == 1"
   ]
  },
  {
   "cell_type": "markdown",
   "metadata": {},
   "source": [
    "# Task 3"
   ]
  },
  {
   "cell_type": "code",
   "execution_count": 7,
   "metadata": {},
   "outputs": [],
   "source": [
    "def task3(start, end, matrix):\n",
    "    start -= 1\n",
    "    end -= 1\n",
    "    n = len(matrix)\n",
    "    visit = set([start])\n",
    "    ways = [[start]]\n",
    "\n",
    "    for way in ways:\n",
    "        vertex = way[-1]\n",
    "        for v in [i for i in range(n) if matrix[vertex][i]]:\n",
    "            if v == end:\n",
    "                return [v+1 for v in way] + [end+1]\n",
    "            elif v not in visit:\n",
    "                ways.append(way[:]+[v])\n",
    "                visit.add(v)"
   ]
  },
  {
   "cell_type": "code",
   "execution_count": 8,
   "metadata": {},
   "outputs": [
    {
     "name": "stdout",
     "output_type": "stream",
     "text": [
      "\n"
     ]
    },
    {
     "ename": "ValueError",
     "evalue": "invalid literal for int() with base 10: ''",
     "output_type": "error",
     "traceback": [
      "\u001b[0;31m---------------------------------------------------------------------------\u001b[0m",
      "\u001b[0;31mValueError\u001b[0m                                Traceback (most recent call last)",
      "\u001b[0;32m<ipython-input-8-4352723f1961>\u001b[0m in \u001b[0;36m<module>\u001b[0;34m\u001b[0m\n\u001b[0;32m----> 1\u001b[0;31m \u001b[0mN\u001b[0m \u001b[0;34m=\u001b[0m \u001b[0mint\u001b[0m\u001b[0;34m(\u001b[0m\u001b[0minput\u001b[0m\u001b[0;34m(\u001b[0m\u001b[0;34m)\u001b[0m\u001b[0;34m)\u001b[0m\u001b[0;34m\u001b[0m\u001b[0;34m\u001b[0m\u001b[0m\n\u001b[0m\u001b[1;32m      2\u001b[0m \u001b[0;34m\u001b[0m\u001b[0m\n\u001b[1;32m      3\u001b[0m \u001b[0mmatrix\u001b[0m \u001b[0;34m=\u001b[0m \u001b[0;34m[\u001b[0m\u001b[0;34m]\u001b[0m\u001b[0;34m\u001b[0m\u001b[0;34m\u001b[0m\u001b[0m\n\u001b[1;32m      4\u001b[0m \u001b[0;32mfor\u001b[0m \u001b[0m_\u001b[0m \u001b[0;32min\u001b[0m \u001b[0mrange\u001b[0m\u001b[0;34m(\u001b[0m\u001b[0mN\u001b[0m\u001b[0;34m)\u001b[0m\u001b[0;34m:\u001b[0m\u001b[0;34m\u001b[0m\u001b[0;34m\u001b[0m\u001b[0m\n\u001b[1;32m      5\u001b[0m     \u001b[0mmatrix\u001b[0m\u001b[0;34m.\u001b[0m\u001b[0mappend\u001b[0m\u001b[0;34m(\u001b[0m\u001b[0mlist\u001b[0m\u001b[0;34m(\u001b[0m\u001b[0mmap\u001b[0m\u001b[0;34m(\u001b[0m\u001b[0mint\u001b[0m\u001b[0;34m,\u001b[0m \u001b[0minput\u001b[0m\u001b[0;34m(\u001b[0m\u001b[0;34m)\u001b[0m\u001b[0;34m.\u001b[0m\u001b[0msplit\u001b[0m\u001b[0;34m(\u001b[0m\u001b[0;34m)\u001b[0m\u001b[0;34m)\u001b[0m\u001b[0;34m)\u001b[0m\u001b[0;34m)\u001b[0m\u001b[0;34m\u001b[0m\u001b[0;34m\u001b[0m\u001b[0m\n",
      "\u001b[0;31mValueError\u001b[0m: invalid literal for int() with base 10: ''"
     ]
    }
   ],
   "source": [
    "N = int(input())\n",
    "\n",
    "matrix = []\n",
    "for _ in range(N):\n",
    "    matrix.append(list(map(int, input().split())))\n",
    "    \n",
    "start, end = map(int, input().split())\n",
    "way = task3(start, end, matrix)\n",
    "if way:\n",
    "    print(len(way)-1)\n",
    "    print(' '.join(map(str, way)))\n",
    "else:\n",
    "    print(-1)"
   ]
  },
  {
   "cell_type": "code",
   "execution_count": 9,
   "metadata": {},
   "outputs": [],
   "source": [
    "assert task3(5, 3, [[0, 1, 0, 0, 1],\n",
    "                    [1, 0, 1, 0, 0],\n",
    "                    [0, 1, 0, 0, 0],\n",
    "                    [0, 0, 0, 0, 0],\n",
    "                    [1, 0, 0, 0, 0]]) == [5, 1, 2, 3]\n",
    "assert task3(5, 4, [[0, 1, 0, 0, 1],\n",
    "                    [1, 0, 1, 0, 0],\n",
    "                    [0, 1, 0, 0, 0],\n",
    "                    [0, 0, 0, 0, 0],\n",
    "                    [1, 0, 0, 0, 0]]) is None\n",
    "assert task3(5, 3, [[1, 1, 1, 1, 1],\n",
    "                    [1, 1, 1, 1, 1],\n",
    "                    [1, 1, 1, 1, 1],\n",
    "                    [1, 1, 1, 1, 1],\n",
    "                    [1, 1, 1, 1, 1]]) == [5, 3] \n",
    "assert task3(1, 1, [[1, 1, 0, 0, 1, 0, 0, 0, 0, 0],\n",
    "                    [1, 0, 1, 1, 0, 1, 0, 0, 0, 0],\n",
    "                    [0, 1, 0, 1, 0, 0, 0, 0, 0, 0],\n",
    "                    [0, 1, 1, 0, 0, 1, 0, 0, 1, 0],\n",
    "                    [1, 0, 0, 0, 0, 1, 0, 0, 0, 0],\n",
    "                    [0, 1, 0, 1, 1, 0, 1, 0, 0, 0],\n",
    "                    [0, 0, 0, 0, 0, 1, 0, 1, 0, 0],\n",
    "                    [0, 0, 0, 0, 0, 0, 1, 0, 1, 1],\n",
    "                    [0, 0, 0, 1, 0, 0, 0, 1, 0, 0],\n",
    "                    [0, 0, 0, 0, 0, 0, 0, 1, 0, 0],]) == [1, 1]\n",
    "\n",
    "assert task3(1, 10, [[1, 1, 0, 0, 1, 0, 0, 0, 0, 0],\n",
    "                    [1, 0, 1, 1, 0, 1, 0, 0, 0, 0],\n",
    "                    [0, 1, 0, 1, 0, 0, 0, 0, 0, 0],\n",
    "                    [0, 1, 1, 0, 0, 1, 0, 0, 1, 0],\n",
    "                    [1, 0, 0, 0, 0, 1, 0, 0, 0, 0],\n",
    "                    [0, 1, 0, 1, 1, 0, 1, 0, 0, 0],\n",
    "                    [0, 0, 0, 0, 0, 1, 0, 1, 0, 0],\n",
    "                    [0, 0, 0, 0, 0, 0, 1, 0, 1, 1],\n",
    "                    [0, 0, 0, 1, 0, 0, 0, 1, 0, 0],\n",
    "                    [0, 0, 0, 0, 0, 0, 0, 1, 0, 0],]) == [1, 2, 4, 9, 8, 10]\n",
    "\n",
    "assert task3(10, 1, [[1, 1, 0, 0, 1, 0, 0, 0, 0, 0],\n",
    "                    [1, 0, 1, 1, 0, 1, 0, 0, 0, 0],\n",
    "                    [0, 1, 0, 1, 0, 0, 0, 0, 0, 0],\n",
    "                    [0, 1, 1, 0, 0, 1, 0, 0, 1, 0],\n",
    "                    [1, 0, 0, 0, 0, 1, 0, 0, 0, 0],\n",
    "                    [0, 1, 0, 1, 1, 0, 1, 0, 0, 0],\n",
    "                    [0, 0, 0, 0, 0, 1, 0, 1, 0, 0],\n",
    "                    [0, 0, 0, 0, 0, 0, 1, 0, 1, 1],\n",
    "                    [0, 0, 0, 1, 0, 0, 0, 1, 0, 0],\n",
    "                    [0, 0, 0, 0, 0, 0, 0, 1, 0, 0],]) == [10, 8, 7, 6, 2, 1]"
   ]
  },
  {
   "cell_type": "markdown",
   "metadata": {},
   "source": [
    "# Task 4"
   ]
  },
  {
   "cell_type": "code",
   "execution_count": 10,
   "metadata": {},
   "outputs": [],
   "source": [
    "def task4(x, y, n=9):\n",
    "    matrix = [[0]*(n+1) for i in range(n)]\n",
    "    par = x % 2 == 0\n",
    "\n",
    "    matrix[y][x] = 1\n",
    "    par = not par\n",
    "\n",
    "    for i in range(y+1, n):\n",
    "        for j in range(par+1, n, 2):\n",
    "            matrix[i][j] = matrix[i-1][j-1] + matrix[i-1][j+1]\n",
    "        par = not par\n",
    "\n",
    "    return sum(matrix[-1])"
   ]
  },
  {
   "cell_type": "code",
   "execution_count": 11,
   "metadata": {},
   "outputs": [
    {
     "name": "stdout",
     "output_type": "stream",
     "text": [
      "\n"
     ]
    },
    {
     "ename": "ValueError",
     "evalue": "not enough values to unpack (expected 2, got 0)",
     "output_type": "error",
     "traceback": [
      "\u001b[0;31m---------------------------------------------------------------------------\u001b[0m",
      "\u001b[0;31mValueError\u001b[0m                                Traceback (most recent call last)",
      "\u001b[0;32m<ipython-input-11-4beceb35285a>\u001b[0m in \u001b[0;36m<module>\u001b[0;34m\u001b[0m\n\u001b[0;32m----> 1\u001b[0;31m \u001b[0mx\u001b[0m\u001b[0;34m,\u001b[0m \u001b[0my\u001b[0m \u001b[0;34m=\u001b[0m \u001b[0mmap\u001b[0m\u001b[0;34m(\u001b[0m\u001b[0mint\u001b[0m\u001b[0;34m,\u001b[0m \u001b[0minput\u001b[0m\u001b[0;34m(\u001b[0m\u001b[0;34m)\u001b[0m\u001b[0;34m.\u001b[0m\u001b[0msplit\u001b[0m\u001b[0;34m(\u001b[0m\u001b[0;34m)\u001b[0m\u001b[0;34m)\u001b[0m\u001b[0;34m\u001b[0m\u001b[0;34m\u001b[0m\u001b[0m\n\u001b[0m\u001b[1;32m      2\u001b[0m \u001b[0mprint\u001b[0m\u001b[0;34m(\u001b[0m\u001b[0mtask4\u001b[0m\u001b[0;34m(\u001b[0m\u001b[0mx\u001b[0m\u001b[0;34m,\u001b[0m \u001b[0my\u001b[0m\u001b[0;34m)\u001b[0m\u001b[0;34m)\u001b[0m\u001b[0;34m\u001b[0m\u001b[0;34m\u001b[0m\u001b[0m\n",
      "\u001b[0;31mValueError\u001b[0m: not enough values to unpack (expected 2, got 0)"
     ]
    }
   ],
   "source": [
    "x, y = map(int, input().split())\n",
    "print(task4(x, y))"
   ]
  },
  {
   "cell_type": "code",
   "execution_count": 12,
   "metadata": {},
   "outputs": [],
   "source": [
    "assert task4(3, 6) == 4\n",
    "assert task4(3, 8) == 1\n",
    "assert task4(1, 1) == 35\n",
    "assert task4(8, 1) == 35\n",
    "assert task4(2, 6) == 3\n",
    "assert task4(6, 5) == 7"
   ]
  },
  {
   "cell_type": "markdown",
   "metadata": {},
   "source": [
    "# Task 5"
   ]
  },
  {
   "cell_type": "code",
   "execution_count": 13,
   "metadata": {},
   "outputs": [],
   "source": [
    "def task5(A, K, B, M, X):\n",
    "    div = (A + B - A/K - B/M)\n",
    "    min_count_days = int((X - A - B) / div) - 10\n",
    "    max_count_days = int((X + A + B) / div) + 10\n",
    "\n",
    "    cond = lambda x: (A+B)*x - (x//K)*A - (x//M)*B >= X\n",
    "\n",
    "    for i in range(max(min_count_days, 1), max_count_days+100):\n",
    "        if cond(i):\n",
    "            return i"
   ]
  },
  {
   "cell_type": "code",
   "execution_count": 14,
   "metadata": {},
   "outputs": [
    {
     "name": "stdout",
     "output_type": "stream",
     "text": [
      "\n"
     ]
    },
    {
     "ename": "ValueError",
     "evalue": "not enough values to unpack (expected 5, got 0)",
     "output_type": "error",
     "traceback": [
      "\u001b[0;31m---------------------------------------------------------------------------\u001b[0m",
      "\u001b[0;31mValueError\u001b[0m                                Traceback (most recent call last)",
      "\u001b[0;32m<ipython-input-14-c64db0c9199a>\u001b[0m in \u001b[0;36m<module>\u001b[0;34m\u001b[0m\n\u001b[0;32m----> 1\u001b[0;31m \u001b[0mA\u001b[0m\u001b[0;34m,\u001b[0m \u001b[0mK\u001b[0m\u001b[0;34m,\u001b[0m \u001b[0mB\u001b[0m\u001b[0;34m,\u001b[0m \u001b[0mM\u001b[0m\u001b[0;34m,\u001b[0m \u001b[0mX\u001b[0m \u001b[0;34m=\u001b[0m \u001b[0mmap\u001b[0m\u001b[0;34m(\u001b[0m\u001b[0mint\u001b[0m\u001b[0;34m,\u001b[0m \u001b[0minput\u001b[0m\u001b[0;34m(\u001b[0m\u001b[0;34m)\u001b[0m\u001b[0;34m.\u001b[0m\u001b[0msplit\u001b[0m\u001b[0;34m(\u001b[0m\u001b[0;34m)\u001b[0m\u001b[0;34m)\u001b[0m\u001b[0;34m\u001b[0m\u001b[0;34m\u001b[0m\u001b[0m\n\u001b[0m\u001b[1;32m      2\u001b[0m \u001b[0mprint\u001b[0m\u001b[0;34m(\u001b[0m\u001b[0mtask5\u001b[0m\u001b[0;34m(\u001b[0m\u001b[0mA\u001b[0m\u001b[0;34m,\u001b[0m \u001b[0mK\u001b[0m\u001b[0;34m,\u001b[0m \u001b[0mB\u001b[0m\u001b[0;34m,\u001b[0m \u001b[0mM\u001b[0m\u001b[0;34m,\u001b[0m \u001b[0mX\u001b[0m\u001b[0;34m)\u001b[0m\u001b[0;34m)\u001b[0m\u001b[0;34m\u001b[0m\u001b[0;34m\u001b[0m\u001b[0m\n",
      "\u001b[0;31mValueError\u001b[0m: not enough values to unpack (expected 5, got 0)"
     ]
    }
   ],
   "source": [
    "A, K, B, M, X = map(int, input().split())\n",
    "print(task5(A, K, B, M, X))"
   ]
  },
  {
   "cell_type": "code",
   "execution_count": 15,
   "metadata": {},
   "outputs": [],
   "source": [
    "assert task5(19, 3, 14, 6, 113) == 4\n",
    "assert task5(1, 2, 1, 3, 100) == 85\n",
    "assert task5(1, 3, 1, 2, 100) == 85\n",
    "assert task5(100, 10**4, 2, 3, 100) == 1\n",
    "assert task5(100, 10**4, 2, 3, 105) == 2\n",
    "assert task5(10**9, 3, 10**9, 6, 10**18) == 666666667\n",
    "assert task5(1, 2, 1, 2, 10**18) == 999999999999999999\n",
    "assert task5(10**9, 10**9, 10**9, 10**9, 10**18) == 500000000"
   ]
  },
  {
   "cell_type": "markdown",
   "metadata": {},
   "source": [
    "# Test JS"
   ]
  },
  {
   "cell_type": "markdown",
   "metadata": {},
   "source": [
    "### Task 1"
   ]
  },
  {
   "cell_type": "markdown",
   "metadata": {},
   "source": [
    "undefined, string, number, object, function"
   ]
  },
  {
   "cell_type": "markdown",
   "metadata": {},
   "source": [
    "### Task 2"
   ]
  },
  {
   "cell_type": "code",
   "execution_count": 16,
   "metadata": {},
   "outputs": [
    {
     "data": {
      "application/javascript": [
       "let i = 0;\n",
       "element.text(i++);\n"
      ],
      "text/plain": [
       "<IPython.core.display.Javascript object>"
      ]
     },
     "metadata": {},
     "output_type": "display_data"
    }
   ],
   "source": [
    "%%js\n",
    "let i = 0;\n",
    "element.text(i++);"
   ]
  },
  {
   "cell_type": "markdown",
   "metadata": {},
   "source": [
    "### Task 3"
   ]
  },
  {
   "cell_type": "code",
   "execution_count": 17,
   "metadata": {},
   "outputs": [
    {
     "data": {
      "application/javascript": [
       "function a() {return 0;}\n",
       "function b() {return '';}\n",
       "function c() {return [];}\n",
       "function d() {return true;}\n",
       "\n",
       "element.text(a()||b()||c()||d()) // []\n"
      ],
      "text/plain": [
       "<IPython.core.display.Javascript object>"
      ]
     },
     "metadata": {},
     "output_type": "display_data"
    }
   ],
   "source": [
    "%%js\n",
    "function a() {return 0;}\n",
    "function b() {return '';}\n",
    "function c() {return [];}\n",
    "function d() {return true;}\n",
    "\n",
    "element.text(a()||b()||c()||d()) // []"
   ]
  },
  {
   "cell_type": "markdown",
   "metadata": {},
   "source": [
    "### Task 4"
   ]
  },
  {
   "cell_type": "code",
   "execution_count": 18,
   "metadata": {},
   "outputs": [
    {
     "data": {
      "application/javascript": [
       "\n",
       "var a = 1;\n",
       "\n",
       "function b() {\n",
       "    a = 2;\n",
       "    var a = 3;\n",
       "}\n",
       "\n",
       "b();\n",
       "element.text(a)\n"
      ],
      "text/plain": [
       "<IPython.core.display.Javascript object>"
      ]
     },
     "metadata": {},
     "output_type": "display_data"
    }
   ],
   "source": [
    "%%js\n",
    "\n",
    "var a = 1;\n",
    "\n",
    "function b() {\n",
    "    a = 2;\n",
    "    var a = 3;\n",
    "}\n",
    "\n",
    "b();\n",
    "element.text(a)"
   ]
  },
  {
   "cell_type": "markdown",
   "metadata": {},
   "source": [
    "### Task 5"
   ]
  },
  {
   "cell_type": "code",
   "execution_count": 19,
   "metadata": {},
   "outputs": [
    {
     "data": {
      "application/javascript": [
       "\n",
       "sayHi(name);\n",
       "\n",
       "var name = 'Bob';\n",
       "\n",
       "function sayHi(name) {\n",
       "    element.text('Hi', name);\n",
       "} //error sayHi not find\n"
      ],
      "text/plain": [
       "<IPython.core.display.Javascript object>"
      ]
     },
     "metadata": {},
     "output_type": "display_data"
    }
   ],
   "source": [
    "%%js\n",
    "\n",
    "sayHi(name);\n",
    "\n",
    "var name = 'Bob';\n",
    "\n",
    "function sayHi(name) {\n",
    "    element.text('Hi', name);\n",
    "} //error sayHi not find"
   ]
  },
  {
   "cell_type": "markdown",
   "metadata": {},
   "source": [
    "### Task 6"
   ]
  },
  {
   "cell_type": "code",
   "execution_count": 20,
   "metadata": {},
   "outputs": [
    {
     "data": {
      "application/javascript": [
       "\n",
       "function doSomething() {\n",
       "    let a = 5;\n",
       "    \n",
       "    if (a>0) {\n",
       "        let a = 0;\n",
       "        element.text(a);\n",
       "    }\n",
       "\n",
       "    element.text(a);\n",
       "}\n",
       "\n",
       "doSomething() // 0 5\n"
      ],
      "text/plain": [
       "<IPython.core.display.Javascript object>"
      ]
     },
     "metadata": {},
     "output_type": "display_data"
    }
   ],
   "source": [
    "%%js\n",
    "\n",
    "function doSomething() {\n",
    "    let a = 5;\n",
    "    \n",
    "    if (a>0) {\n",
    "        let a = 0;\n",
    "        element.text(a);\n",
    "    }\n",
    "\n",
    "    element.text(a);\n",
    "}\n",
    "\n",
    "doSomething() // 0 5"
   ]
  },
  {
   "cell_type": "markdown",
   "metadata": {},
   "source": [
    "### Task 7"
   ]
  },
  {
   "cell_type": "markdown",
   "metadata": {},
   "source": [
    "Никакая"
   ]
  },
  {
   "cell_type": "markdown",
   "metadata": {},
   "source": [
    "### Task 8"
   ]
  },
  {
   "cell_type": "code",
   "execution_count": 21,
   "metadata": {},
   "outputs": [
    {
     "data": {
      "application/javascript": [
       "\n",
       "var a = [1, 2, 3];\n",
       "var b = [1, 2, 3];\n",
       "element.text(a == b)\n"
      ],
      "text/plain": [
       "<IPython.core.display.Javascript object>"
      ]
     },
     "metadata": {},
     "output_type": "display_data"
    }
   ],
   "source": [
    "%%js\n",
    "\n",
    "var a = [1, 2, 3];\n",
    "var b = [1, 2, 3];\n",
    "element.text(a == b)"
   ]
  },
  {
   "cell_type": "markdown",
   "metadata": {},
   "source": [
    "### Task 9"
   ]
  },
  {
   "cell_type": "markdown",
   "metadata": {},
   "source": [
    "без приведения типов"
   ]
  },
  {
   "cell_type": "markdown",
   "metadata": {},
   "source": [
    "### Task 10"
   ]
  },
  {
   "cell_type": "code",
   "execution_count": 22,
   "metadata": {},
   "outputs": [
    {
     "data": {
      "application/javascript": [
       "\n",
       "for (let i = 3; i > 0; i--) {\n",
       "    element.text(i)\n",
       "} // 3 2 1\n"
      ],
      "text/plain": [
       "<IPython.core.display.Javascript object>"
      ]
     },
     "metadata": {},
     "output_type": "display_data"
    }
   ],
   "source": [
    "%%js\n",
    "\n",
    "for (let i = 3; i > 0; i--) {\n",
    "    element.text(i)\n",
    "} // 3 2 1"
   ]
  },
  {
   "cell_type": "markdown",
   "metadata": {},
   "source": [
    "### Task 11"
   ]
  },
  {
   "cell_type": "code",
   "execution_count": 23,
   "metadata": {},
   "outputs": [
    {
     "data": {
      "application/javascript": [
       "\n",
       "var i=3; while(i>0) {element.text(i); i--}\n"
      ],
      "text/plain": [
       "<IPython.core.display.Javascript object>"
      ]
     },
     "metadata": {},
     "output_type": "display_data"
    }
   ],
   "source": [
    "%%js\n",
    "\n",
    "var i=3; while(i>0) {element.text(i); i--}"
   ]
  },
  {
   "cell_type": "markdown",
   "metadata": {},
   "source": [
    "### Task 12 "
   ]
  },
  {
   "cell_type": "code",
   "execution_count": 24,
   "metadata": {},
   "outputs": [
    {
     "data": {
      "application/javascript": [
       "\n",
       "'use strict'\n",
       "\n",
       "function logThis() {\n",
       "    this.name = 'logger';\n",
       "    element.text(this);\n",
       "}\n",
       "\n",
       "new logThis(); // {name: 'logger'}\n"
      ],
      "text/plain": [
       "<IPython.core.display.Javascript object>"
      ]
     },
     "metadata": {},
     "output_type": "display_data"
    }
   ],
   "source": [
    "%%js\n",
    "\n",
    "'use strict'\n",
    "\n",
    "function logThis() {\n",
    "    this.name = 'logger';\n",
    "    element.text(this);\n",
    "}\n",
    "\n",
    "new logThis(); // {name: 'logger'}"
   ]
  },
  {
   "cell_type": "markdown",
   "metadata": {},
   "source": [
    "### Task 13"
   ]
  },
  {
   "cell_type": "code",
   "execution_count": 25,
   "metadata": {},
   "outputs": [
    {
     "data": {
      "application/javascript": [
       "\n",
       "element.text('DO-do-do'.replace('o', 'a'))\n"
      ],
      "text/plain": [
       "<IPython.core.display.Javascript object>"
      ]
     },
     "metadata": {},
     "output_type": "display_data"
    }
   ],
   "source": [
    "%%js\n",
    "\n",
    "element.text('DO-do-do'.replace('o', 'a'))"
   ]
  },
  {
   "cell_type": "markdown",
   "metadata": {},
   "source": [
    "### Task 14"
   ]
  },
  {
   "cell_type": "markdown",
   "metadata": {},
   "source": [
    "substr"
   ]
  },
  {
   "cell_type": "markdown",
   "metadata": {},
   "source": [
    "### Task 15"
   ]
  },
  {
   "cell_type": "code",
   "execution_count": 26,
   "metadata": {},
   "outputs": [
    {
     "data": {
      "application/javascript": [
       "\n",
       "const a = [1, 2, 3];\n",
       "\n",
       "a[4] = 5;\n",
       "\n",
       "element.text(a.length)\n"
      ],
      "text/plain": [
       "<IPython.core.display.Javascript object>"
      ]
     },
     "metadata": {},
     "output_type": "display_data"
    }
   ],
   "source": [
    "%%js\n",
    "\n",
    "const a = [1, 2, 3];\n",
    "\n",
    "a[4] = 5;\n",
    "\n",
    "element.text(a.length)"
   ]
  },
  {
   "cell_type": "markdown",
   "metadata": {},
   "source": [
    "### Task 16"
   ]
  },
  {
   "cell_type": "markdown",
   "metadata": {},
   "source": [
    "indexOf"
   ]
  },
  {
   "cell_type": "markdown",
   "metadata": {},
   "source": [
    "### Task 17"
   ]
  },
  {
   "cell_type": "code",
   "execution_count": 27,
   "metadata": {},
   "outputs": [
    {
     "ename": "NameError",
     "evalue": "name 'push' is not defined",
     "output_type": "error",
     "traceback": [
      "\u001b[0;31m---------------------------------------------------------------------------\u001b[0m",
      "\u001b[0;31mNameError\u001b[0m                                 Traceback (most recent call last)",
      "\u001b[0;32m<ipython-input-27-255a83f0b49a>\u001b[0m in \u001b[0;36m<module>\u001b[0;34m\u001b[0m\n\u001b[0;32m----> 1\u001b[0;31m \u001b[0mpush\u001b[0m\u001b[0;34m\u001b[0m\u001b[0;34m\u001b[0m\u001b[0m\n\u001b[0m",
      "\u001b[0;31mNameError\u001b[0m: name 'push' is not defined"
     ]
    }
   ],
   "source": [
    "push"
   ]
  },
  {
   "cell_type": "markdown",
   "metadata": {},
   "source": [
    "### Task 18"
   ]
  },
  {
   "cell_type": "code",
   "execution_count": 28,
   "metadata": {},
   "outputs": [
    {
     "data": {
      "application/javascript": [
       "\n",
       "const currencies = ['RUB', 'USD', 'EUR'];\n",
       "\n",
       "element.text(currencies.length);\n"
      ],
      "text/plain": [
       "<IPython.core.display.Javascript object>"
      ]
     },
     "metadata": {},
     "output_type": "display_data"
    }
   ],
   "source": [
    "%%js\n",
    "\n",
    "const currencies = ['RUB', 'USD', 'EUR'];\n",
    "\n",
    "element.text(currencies.length);"
   ]
  },
  {
   "cell_type": "markdown",
   "metadata": {},
   "source": [
    "### Task 19"
   ]
  },
  {
   "cell_type": "code",
   "execution_count": 29,
   "metadata": {},
   "outputs": [
    {
     "data": {
      "application/javascript": [
       "\n",
       "const currencies = ['RUB', 'USD', 'EUR'];\n",
       "\n",
       "element.text(currencies[1]);\n"
      ],
      "text/plain": [
       "<IPython.core.display.Javascript object>"
      ]
     },
     "metadata": {},
     "output_type": "display_data"
    }
   ],
   "source": [
    "%%js\n",
    "\n",
    "const currencies = ['RUB', 'USD', 'EUR'];\n",
    "\n",
    "element.text(currencies[1]);"
   ]
  },
  {
   "cell_type": "markdown",
   "metadata": {},
   "source": [
    "### Task 20"
   ]
  },
  {
   "cell_type": "code",
   "execution_count": 30,
   "metadata": {},
   "outputs": [
    {
     "data": {
      "application/javascript": [
       "\n",
       "const currencies1 = ['RUB', 'USD', 'EUR'];\n",
       "const currencies2 = ['RUB', 'USD', 'EUR'];\n",
       "const currencies3 = ['RUB', 'USD', 'EUR'];\n",
       "const currencies4 = ['RUB', 'USD', 'EUR'];\n",
       "\n",
       "currencies1[3] = 'JPY';\n",
       "currencies4.push('JPY');\n"
      ],
      "text/plain": [
       "<IPython.core.display.Javascript object>"
      ]
     },
     "metadata": {},
     "output_type": "display_data"
    }
   ],
   "source": [
    "%%js\n",
    "\n",
    "const currencies1 = ['RUB', 'USD', 'EUR'];\n",
    "const currencies2 = ['RUB', 'USD', 'EUR'];\n",
    "const currencies3 = ['RUB', 'USD', 'EUR'];\n",
    "const currencies4 = ['RUB', 'USD', 'EUR'];\n",
    "\n",
    "currencies1[3] = 'JPY';\n",
    "currencies4.push('JPY');"
   ]
  },
  {
   "cell_type": "markdown",
   "metadata": {},
   "source": [
    "### Task 21"
   ]
  },
  {
   "cell_type": "markdown",
   "metadata": {},
   "source": [
    "Любое количество"
   ]
  },
  {
   "cell_type": "markdown",
   "metadata": {},
   "source": [
    "### Task 22"
   ]
  },
  {
   "cell_type": "code",
   "execution_count": 31,
   "metadata": {},
   "outputs": [
    {
     "data": {
      "application/javascript": [
       "\n",
       "function sayHi(name) {\n",
       "    element.text('Hi', name);\n",
       "}\n",
       "\n",
       "sayHi('Bob');\n"
      ],
      "text/plain": [
       "<IPython.core.display.Javascript object>"
      ]
     },
     "metadata": {},
     "output_type": "display_data"
    }
   ],
   "source": [
    "%%js\n",
    "\n",
    "function sayHi(name) {\n",
    "    element.text('Hi', name);\n",
    "}\n",
    "\n",
    "sayHi('Bob');"
   ]
  },
  {
   "cell_type": "markdown",
   "metadata": {},
   "source": [
    "### Task 23"
   ]
  },
  {
   "cell_type": "code",
   "execution_count": 32,
   "metadata": {},
   "outputs": [
    {
     "data": {
      "application/javascript": [
       "\n",
       "var a = 1;\n",
       "\n",
       "function f1() {\n",
       "    element.text(a);\n",
       "}\n",
       "\n",
       "function f2() {\n",
       "    var a = 2;\n",
       "    \n",
       "    f1();\n",
       "}\n",
       "\n",
       "f2();\n"
      ],
      "text/plain": [
       "<IPython.core.display.Javascript object>"
      ]
     },
     "metadata": {},
     "output_type": "display_data"
    }
   ],
   "source": [
    "%%js\n",
    "\n",
    "var a = 1;\n",
    "\n",
    "function f1() {\n",
    "    element.text(a);\n",
    "}\n",
    "\n",
    "function f2() {\n",
    "    var a = 2;\n",
    "    \n",
    "    f1();\n",
    "}\n",
    "\n",
    "f2();"
   ]
  },
  {
   "cell_type": "markdown",
   "metadata": {},
   "source": [
    "### Task 24"
   ]
  },
  {
   "cell_type": "code",
   "execution_count": 33,
   "metadata": {},
   "outputs": [
    {
     "data": {
      "application/javascript": [
       "\n",
       "let user = {\n",
       "    name: 'Ann',\n",
       "    sayHi: function() {\n",
       "        element.text('Hi, I am ', this.name);\n",
       "    }\n",
       "};\n",
       "\n",
       "user.sayHi.name = 'Bob';\n",
       "let sayHi = user.sayHi;\n",
       "sayHi(); // Hi, I am Bob\n"
      ],
      "text/plain": [
       "<IPython.core.display.Javascript object>"
      ]
     },
     "metadata": {},
     "output_type": "display_data"
    }
   ],
   "source": [
    "%%js\n",
    "\n",
    "let user = {\n",
    "    name: 'Ann',\n",
    "    sayHi: function() {\n",
    "        element.text('Hi, I am ', this.name);\n",
    "    }\n",
    "};\n",
    "\n",
    "user.sayHi.name = 'Bob';\n",
    "let sayHi = user.sayHi;\n",
    "sayHi(); // Hi, I am Bob"
   ]
  },
  {
   "cell_type": "markdown",
   "metadata": {},
   "source": [
    "### Task 25"
   ]
  },
  {
   "cell_type": "markdown",
   "metadata": {},
   "source": [
    "I am tired"
   ]
  },
  {
   "cell_type": "markdown",
   "metadata": {},
   "source": [
    "### Task 26"
   ]
  },
  {
   "cell_type": "code",
   "execution_count": 34,
   "metadata": {},
   "outputs": [
    {
     "data": {
      "application/javascript": [
       "\n",
       "function foo() {\n",
       "    var a = 1;\n",
       "    \n",
       "    if (a > 0) {\n",
       "        var a = 2;\n",
       "    }\n",
       "    \n",
       "    element.text(a);\n",
       "}\n",
       "\n",
       "foo();\n"
      ],
      "text/plain": [
       "<IPython.core.display.Javascript object>"
      ]
     },
     "metadata": {},
     "output_type": "display_data"
    }
   ],
   "source": [
    "%%js\n",
    "\n",
    "function foo() {\n",
    "    var a = 1;\n",
    "    \n",
    "    if (a > 0) {\n",
    "        var a = 2;\n",
    "    }\n",
    "    \n",
    "    element.text(a);\n",
    "}\n",
    "\n",
    "foo();"
   ]
  },
  {
   "cell_type": "markdown",
   "metadata": {},
   "source": [
    "### Task 27"
   ]
  },
  {
   "cell_type": "code",
   "execution_count": 35,
   "metadata": {},
   "outputs": [
    {
     "data": {
      "application/javascript": [
       "\n",
       "const promise = Promise.reject('a')\n",
       "    .then(x => x+'b')\n",
       "    .catch(x => x+'d')\n",
       "    .catch(x => x+'e')\n",
       "    .then(x => x+'g')\n",
       "    \n",
       "promise.then(x => element.text(x))\n"
      ],
      "text/plain": [
       "<IPython.core.display.Javascript object>"
      ]
     },
     "metadata": {},
     "output_type": "display_data"
    }
   ],
   "source": [
    "%%js\n",
    "\n",
    "const promise = Promise.reject('a')\n",
    "    .then(x => x+'b')\n",
    "    .catch(x => x+'d')\n",
    "    .catch(x => x+'e')\n",
    "    .then(x => x+'g')\n",
    "    \n",
    "promise.then(x => element.text(x))"
   ]
  },
  {
   "cell_type": "markdown",
   "metadata": {},
   "source": [
    "### Task 28"
   ]
  },
  {
   "cell_type": "code",
   "execution_count": 36,
   "metadata": {},
   "outputs": [
    {
     "data": {
      "application/javascript": [
       "\n",
       "element.text(1);\n",
       "setTimeout(function() {element.text(2);}, 1000);\n",
       "setTimeout(function() {element.text(3);}, 0);\n",
       "element.text(4); // 1 4 3 2\n"
      ],
      "text/plain": [
       "<IPython.core.display.Javascript object>"
      ]
     },
     "metadata": {},
     "output_type": "display_data"
    }
   ],
   "source": [
    "%%js\n",
    "\n",
    "element.text(1);\n",
    "setTimeout(function() {element.text(2);}, 1000);\n",
    "setTimeout(function() {element.text(3);}, 0);\n",
    "element.text(4); // 1 4 3 2"
   ]
  },
  {
   "cell_type": "markdown",
   "metadata": {},
   "source": [
    "### Task 29"
   ]
  },
  {
   "cell_type": "code",
   "execution_count": 37,
   "metadata": {},
   "outputs": [
    {
     "data": {
      "application/javascript": [
       "\n",
       "for (var i = 0; i < 10; i++) {\n",
       "    setTimeout(function() {element.text(i)}, 1000);\n",
       "} // 10 on 10\n"
      ],
      "text/plain": [
       "<IPython.core.display.Javascript object>"
      ]
     },
     "metadata": {},
     "output_type": "display_data"
    }
   ],
   "source": [
    "%%js\n",
    "\n",
    "for (var i = 0; i < 10; i++) {\n",
    "    setTimeout(function() {element.text(i)}, 1000);\n",
    "} // 10 on 10"
   ]
  },
  {
   "cell_type": "markdown",
   "metadata": {},
   "source": [
    "### Task 30"
   ]
  },
  {
   "cell_type": "markdown",
   "metadata": {},
   "source": [
    "I am tired"
   ]
  },
  {
   "cell_type": "markdown",
   "metadata": {},
   "source": [
    "### Task 31"
   ]
  },
  {
   "cell_type": "code",
   "execution_count": 38,
   "metadata": {},
   "outputs": [
    {
     "data": {
      "application/javascript": [
       "\n",
       "function User() {}\n",
       "User.prototype = {admin: false};\n",
       "\n",
       "const user = new User();\n",
       "element.text(user.admin);\n"
      ],
      "text/plain": [
       "<IPython.core.display.Javascript object>"
      ]
     },
     "metadata": {},
     "output_type": "display_data"
    }
   ],
   "source": [
    "%%js\n",
    "\n",
    "function User() {}\n",
    "User.prototype = {admin: false};\n",
    "\n",
    "const user = new User();\n",
    "element.text(user.admin);"
   ]
  },
  {
   "cell_type": "markdown",
   "metadata": {},
   "source": [
    "### Task 32"
   ]
  },
  {
   "cell_type": "code",
   "execution_count": 39,
   "metadata": {},
   "outputs": [
    {
     "data": {
      "application/javascript": [
       "\n",
       "function User() {}\n",
       "User.prototype = {admin: false};\n",
       "\n",
       "const user = new User();\n",
       "User.prototype.admin = true;\n",
       "element.text(user.admin);\n"
      ],
      "text/plain": [
       "<IPython.core.display.Javascript object>"
      ]
     },
     "metadata": {},
     "output_type": "display_data"
    }
   ],
   "source": [
    "%%js\n",
    "\n",
    "function User() {}\n",
    "User.prototype = {admin: false};\n",
    "\n",
    "const user = new User();\n",
    "User.prototype.admin = true;\n",
    "element.text(user.admin);"
   ]
  },
  {
   "cell_type": "markdown",
   "metadata": {},
   "source": [
    "### Task 33"
   ]
  },
  {
   "cell_type": "code",
   "execution_count": 40,
   "metadata": {},
   "outputs": [
    {
     "data": {
      "application/javascript": [
       "\n",
       "function User() {}\n",
       "User.prototype = {admin: false};\n",
       "\n",
       "const user = new User();\n",
       "User.prototype = {admin: true};\n",
       "element.text(user.admin);\n"
      ],
      "text/plain": [
       "<IPython.core.display.Javascript object>"
      ]
     },
     "metadata": {},
     "output_type": "display_data"
    }
   ],
   "source": [
    "%%js\n",
    "\n",
    "function User() {}\n",
    "User.prototype = {admin: false};\n",
    "\n",
    "const user = new User();\n",
    "User.prototype = {admin: true};\n",
    "element.text(user.admin);"
   ]
  },
  {
   "cell_type": "markdown",
   "metadata": {},
   "source": [
    "### Task 34"
   ]
  },
  {
   "cell_type": "code",
   "execution_count": 41,
   "metadata": {},
   "outputs": [
    {
     "data": {
      "application/javascript": [
       "\n",
       "const a = {};\n",
       "const b = {};\n",
       "\n",
       "element.text(a.__proto__ === b.__proto__)\n"
      ],
      "text/plain": [
       "<IPython.core.display.Javascript object>"
      ]
     },
     "metadata": {},
     "output_type": "display_data"
    }
   ],
   "source": [
    "%%js\n",
    "\n",
    "const a = {};\n",
    "const b = {};\n",
    "\n",
    "element.text(a.__proto__ === b.__proto__)"
   ]
  },
  {
   "cell_type": "markdown",
   "metadata": {},
   "source": [
    "### Task 35"
   ]
  },
  {
   "cell_type": "markdown",
   "metadata": {},
   "source": [
    "document.querySelector('.name')"
   ]
  }
 ],
 "metadata": {
  "kernelspec": {
   "display_name": "Python 3",
   "language": "python",
   "name": "python3"
  },
  "language_info": {
   "codemirror_mode": {
    "name": "ipython",
    "version": 3
   },
   "file_extension": ".py",
   "mimetype": "text/x-python",
   "name": "python",
   "nbconvert_exporter": "python",
   "pygments_lexer": "ipython3",
   "version": "3.7.3"
  }
 },
 "nbformat": 4,
 "nbformat_minor": 2
}
