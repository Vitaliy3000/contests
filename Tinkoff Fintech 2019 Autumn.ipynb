{
 "cells": [
  {
   "cell_type": "markdown",
   "metadata": {},
   "source": [
    "# Task 1"
   ]
  },
  {
   "cell_type": "code",
   "execution_count": 11,
   "metadata": {},
   "outputs": [],
   "source": [
    "def task1(text, people):\n",
    "    people = people.split(' ')\n",
    "    text = text.split(' ')\n",
    "    count_effective_actions = len(actions) % len(people)\n",
    "    return people[count_effective_actions-1]"
   ]
  },
  {
   "cell_type": "code",
   "execution_count": 62,
   "metadata": {},
   "outputs": [
    {
     "name": "stdout",
     "output_type": "stream",
     "text": [
      "I miss deadlines like a stormrooper misses Jedi\n",
      "Sasha Vany Roma Albina Polina\n",
      "Roma\n"
     ]
    }
   ],
   "source": [
    "text = input()\n",
    "people = input()\n",
    "print(task1(text, people))"
   ]
  },
  {
   "cell_type": "code",
   "execution_count": 61,
   "metadata": {},
   "outputs": [],
   "source": [
    "assert task1('I miss deadlines like a stormrooper misses Jedi', 'Sasha Vany Roma Albina Polina') == 'Roma'\n",
    "assert task1('Test prod', 'Sasha Roma') == 'Roma'\n",
    "assert task1('Word next word', 'People1 p2 p3 p4') == 'p3'\n",
    "assert task1('Word next word', 'p1 p2') == 'p1'\n",
    "assert task1('Word next word', 'p1 p2 p3') == 'p3'\n",
    "assert task1('Test next new test', 'Vasya Petya Roma') == 'Vasya'"
   ]
  },
  {
   "cell_type": "markdown",
   "metadata": {},
   "source": [
    "# Task 2"
   ]
  },
  {
   "cell_type": "code",
   "execution_count": 22,
   "metadata": {},
   "outputs": [],
   "source": [
    "def task2(S, T):\n",
    "    count_step = T // S\n",
    "    part_time = T % S\n",
    "    if count_step % 2 == 0:\n",
    "        return part_time\n",
    "    else:\n",
    "        return S - part_time"
   ]
  },
  {
   "cell_type": "code",
   "execution_count": 65,
   "metadata": {},
   "outputs": [
    {
     "name": "stdout",
     "output_type": "stream",
     "text": [
      "10 16\n",
      "4\n"
     ]
    }
   ],
   "source": [
    "S, T = map(int, input().split())\n",
    "print(task2(S, T))"
   ]
  },
  {
   "cell_type": "code",
   "execution_count": 69,
   "metadata": {},
   "outputs": [],
   "source": [
    "assert task2(10, 16) == 4\n",
    "assert task2(10**9, 10**9) == 10**9\n",
    "assert task2(10**9//2, 10**9) == 0\n",
    "assert task2(10**4, 10**5) == 0\n",
    "assert task2(20, 20) == 20\n",
    "assert task2(20, 16) == 16\n",
    "assert task2(20, 30) == 10\n",
    "assert task2(20, 40) == 0\n",
    "assert task2(1, 1) == 1\n",
    "assert task2(1, 10) == 0\n",
    "assert task2(1, 11) == 1\n",
    "assert task2(10000, 1) == 1"
   ]
  },
  {
   "cell_type": "markdown",
   "metadata": {},
   "source": [
    "# Task 3"
   ]
  },
  {
   "cell_type": "code",
   "execution_count": 69,
   "metadata": {},
   "outputs": [],
   "source": [
    "def task3(start, end, matrix):\n",
    "    start -= 1\n",
    "    end -= 1\n",
    "    n = len(matrix)\n",
    "    visit = set([start])\n",
    "    ways = [[start]]\n",
    "\n",
    "    for way in ways:\n",
    "        vertex = way[-1]\n",
    "        for v in [i for i in range(n) if matrix[vertex][i]]:\n",
    "            if v == end:\n",
    "                return [v+1 for v in way] + [end+1]\n",
    "            elif v not in visit:\n",
    "                ways.append(way[:]+[v])\n",
    "                visit.add(v)"
   ]
  },
  {
   "cell_type": "code",
   "execution_count": 73,
   "metadata": {},
   "outputs": [
    {
     "name": "stdout",
     "output_type": "stream",
     "text": [
      "5\n",
      "0 1 0 0 1\n",
      "1 0 1 0 0\n",
      "0 1 0 0 0\n",
      "0 0 0 0 0\n",
      "1 0 0 0 0\n",
      "5 3\n",
      "3\n",
      "5 1 2 3\n"
     ]
    }
   ],
   "source": [
    "N = int(input())\n",
    "\n",
    "matrix = []\n",
    "for _ in range(N):\n",
    "    matrix.append(list(map(int, input().split())))\n",
    "    \n",
    "start, end = map(int, input().split())\n",
    "way = task3(start, end, matrix)\n",
    "if way:\n",
    "    print(len(way)-1)\n",
    "    print(' '.join(map(str, way)))\n",
    "else:\n",
    "    print(-1)"
   ]
  },
  {
   "cell_type": "code",
   "execution_count": 72,
   "metadata": {},
   "outputs": [],
   "source": [
    "assert task3(5, 3, [[0, 1, 0, 0, 1],\n",
    "                    [1, 0, 1, 0, 0],\n",
    "                    [0, 1, 0, 0, 0],\n",
    "                    [0, 0, 0, 0, 0],\n",
    "                    [1, 0, 0, 0, 0]]) == [5, 1, 2, 3]\n",
    "assert task3(5, 4, [[0, 1, 0, 0, 1],\n",
    "                    [1, 0, 1, 0, 0],\n",
    "                    [0, 1, 0, 0, 0],\n",
    "                    [0, 0, 0, 0, 0],\n",
    "                    [1, 0, 0, 0, 0]]) is None\n",
    "assert task3(5, 3, [[1, 1, 1, 1, 1],\n",
    "                    [1, 1, 1, 1, 1],\n",
    "                    [1, 1, 1, 1, 1],\n",
    "                    [1, 1, 1, 1, 1],\n",
    "                    [1, 1, 1, 1, 1]]) == [5, 3] \n",
    "assert task3(1, 1, [[1, 1, 0, 0, 1, 0, 0, 0, 0, 0],\n",
    "                    [1, 0, 1, 1, 0, 1, 0, 0, 0, 0],\n",
    "                    [0, 1, 0, 1, 0, 0, 0, 0, 0, 0],\n",
    "                    [0, 1, 1, 0, 0, 1, 0, 0, 1, 0],\n",
    "                    [1, 0, 0, 0, 0, 1, 0, 0, 0, 0],\n",
    "                    [0, 1, 0, 1, 1, 0, 1, 0, 0, 0],\n",
    "                    [0, 0, 0, 0, 0, 1, 0, 1, 0, 0],\n",
    "                    [0, 0, 0, 0, 0, 0, 1, 0, 1, 1],\n",
    "                    [0, 0, 0, 1, 0, 0, 0, 1, 0, 0],\n",
    "                    [0, 0, 0, 0, 0, 0, 0, 1, 0, 0],]) == [1, 1]\n",
    "\n",
    "assert task3(1, 10, [[1, 1, 0, 0, 1, 0, 0, 0, 0, 0],\n",
    "                    [1, 0, 1, 1, 0, 1, 0, 0, 0, 0],\n",
    "                    [0, 1, 0, 1, 0, 0, 0, 0, 0, 0],\n",
    "                    [0, 1, 1, 0, 0, 1, 0, 0, 1, 0],\n",
    "                    [1, 0, 0, 0, 0, 1, 0, 0, 0, 0],\n",
    "                    [0, 1, 0, 1, 1, 0, 1, 0, 0, 0],\n",
    "                    [0, 0, 0, 0, 0, 1, 0, 1, 0, 0],\n",
    "                    [0, 0, 0, 0, 0, 0, 1, 0, 1, 1],\n",
    "                    [0, 0, 0, 1, 0, 0, 0, 1, 0, 0],\n",
    "                    [0, 0, 0, 0, 0, 0, 0, 1, 0, 0],]) == [1, 2, 4, 9, 8, 10]\n",
    "\n",
    "assert task3(10, 1, [[1, 1, 0, 0, 1, 0, 0, 0, 0, 0],\n",
    "                    [1, 0, 1, 1, 0, 1, 0, 0, 0, 0],\n",
    "                    [0, 1, 0, 1, 0, 0, 0, 0, 0, 0],\n",
    "                    [0, 1, 1, 0, 0, 1, 0, 0, 1, 0],\n",
    "                    [1, 0, 0, 0, 0, 1, 0, 0, 0, 0],\n",
    "                    [0, 1, 0, 1, 1, 0, 1, 0, 0, 0],\n",
    "                    [0, 0, 0, 0, 0, 1, 0, 1, 0, 0],\n",
    "                    [0, 0, 0, 0, 0, 0, 1, 0, 1, 1],\n",
    "                    [0, 0, 0, 1, 0, 0, 0, 1, 0, 0],\n",
    "                    [0, 0, 0, 0, 0, 0, 0, 1, 0, 0],]) == [10, 8, 7, 6, 2, 1]"
   ]
  },
  {
   "cell_type": "markdown",
   "metadata": {},
   "source": [
    "# Task 4"
   ]
  },
  {
   "cell_type": "code",
   "execution_count": 56,
   "metadata": {},
   "outputs": [],
   "source": [
    "def task4(x, y, n=9):\n",
    "    matrix = [[0]*(n+1) for i in range(n)]\n",
    "    par = x % 2 == 0\n",
    "\n",
    "    matrix[y][x] = 1\n",
    "    par = not par\n",
    "\n",
    "    for i in range(y+1, n):\n",
    "        for j in range(par+1, n, 2):\n",
    "            matrix[i][j] = matrix[i-1][j-1] + matrix[i-1][j+1]\n",
    "        par = not par\n",
    "\n",
    "    return sum(matrix[-1])"
   ]
  },
  {
   "cell_type": "code",
   "execution_count": 74,
   "metadata": {},
   "outputs": [
    {
     "name": "stdout",
     "output_type": "stream",
     "text": [
      "3 6\n",
      "4\n"
     ]
    }
   ],
   "source": [
    "x, y = map(int, input().split())\n",
    "print(task4(x, y))"
   ]
  },
  {
   "cell_type": "code",
   "execution_count": 109,
   "metadata": {},
   "outputs": [],
   "source": [
    "assert task4(3, 6) == 4\n",
    "assert task4(3, 8) == 1\n",
    "assert task4(1, 1) == 35\n",
    "assert task4(8, 1) == 35\n",
    "assert task4(2, 6) == 3\n",
    "assert task4(6, 5) == 7"
   ]
  },
  {
   "cell_type": "markdown",
   "metadata": {},
   "source": [
    "# Task 5"
   ]
  },
  {
   "cell_type": "code",
   "execution_count": 47,
   "metadata": {},
   "outputs": [],
   "source": [
    "def task5(A, K, B, M, X):\n",
    "    div = (A + B - A/K - B/M)\n",
    "    min_count_days = int((X - A - B) / div) - 10\n",
    "    max_count_days = int((X + A + B) / div) + 10\n",
    "\n",
    "    cond = lambda x: (A+B)*x - (x//K)*A - (x//M)*B >= X\n",
    "\n",
    "    for i in range(max(min_count_days, 1), max_count_days+100):\n",
    "        if cond(i):\n",
    "            return i"
   ]
  },
  {
   "cell_type": "code",
   "execution_count": 38,
   "metadata": {},
   "outputs": [
    {
     "name": "stdout",
     "output_type": "stream",
     "text": [
      "19 3 14 6 113\n",
      "4\n"
     ]
    }
   ],
   "source": [
    "A, K, B, M, X = map(int, input().split())\n",
    "print(task5(A, K, B, M, X))"
   ]
  },
  {
   "cell_type": "code",
   "execution_count": 74,
   "metadata": {},
   "outputs": [],
   "source": [
    "assert task5(19, 3, 14, 6, 113) == 4\n",
    "assert task5(1, 2, 1, 3, 100) == 85\n",
    "assert task5(1, 3, 1, 2, 100) == 85\n",
    "assert task5(100, 10**4, 2, 3, 100) == 1\n",
    "assert task5(100, 10**4, 2, 3, 105) == 2\n",
    "assert task5(10**9, 3, 10**9, 6, 10**18) == 666666667\n",
    "assert task5(1, 2, 1, 2, 10**18) == 999999999999999999\n",
    "assert task5(10**9, 10**9, 10**9, 10**9, 10**18) == 500000000"
   ]
  }
 ],
 "metadata": {
  "kernelspec": {
   "display_name": "Python 3",
   "language": "python",
   "name": "python3"
  }
 },
 "nbformat": 4,
 "nbformat_minor": 2
}
